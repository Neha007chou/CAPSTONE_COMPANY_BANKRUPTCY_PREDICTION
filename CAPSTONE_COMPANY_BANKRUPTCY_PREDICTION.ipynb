{
  "nbformat": 4,
  "nbformat_minor": 0,
  "metadata": {
    "colab": {
      "name": "CAPSTONE-COMPANY BANKRUPTCY PREDICTION.ipynb",
      "provenance": [],
      "collapsed_sections": [],
      "include_colab_link": true
    },
    "kernelspec": {
      "name": "python3",
      "display_name": "Python 3"
    },
    "language_info": {
      "name": "python"
    }
  },
  "cells": [
    {
      "cell_type": "markdown",
      "metadata": {
        "id": "view-in-github",
        "colab_type": "text"
      },
      "source": [
        "<a href=\"https://colab.research.google.com/github/HarshalPawar88/Bankruptcy-Prediction/blob/main/CAPSTONE_COMPANY_BANKRUPTCY_PREDICTION.ipynb\" target=\"_parent\"><img src=\"https://colab.research.google.com/assets/colab-badge.svg\" alt=\"Open In Colab\"/></a>"
      ]
    },
    {
      "cell_type": "markdown",
      "metadata": {
        "id": "LGcl5Bv9ed6u"
      },
      "source": [
        "# **Problem Statement**"
      ]
    },
    {
      "cell_type": "markdown",
      "metadata": {
        "id": "BVqiQpgOgBxB"
      },
      "source": [
        "Prediction of bankruptcy is a phenomenon of increasing interest to firms who\n",
        "stand to loose money because on unpaid debts. Since computers can store huge dataset\n",
        "pertaining to bankruptcy making accurate predictions from them before hand is becoming\n",
        "important. \n",
        "\n",
        "The data were collected from the Taiwan Economic Journal for the years 1999 to 2009. Company bankruptcy was defined based on the business regulations of the Taiwan Stock Exchange.\n",
        "\n",
        " In this project you will use various classification algorithms on bankruptcy\n",
        "dataset to predict bankruptcies with satisfying accuracies long before the actual event."
      ]
    },
    {
      "cell_type": "markdown",
      "metadata": {
        "id": "AzGDqdC4fZ-b"
      },
      "source": [
        "# **Attribute Information**"
      ]
    },
    {
      "cell_type": "markdown",
      "metadata": {
        "id": "3qiYAbXrejna"
      },
      "source": [
        "Updated column names and description to make the data easier to understand (Y = Output feature, X = Input features)\n",
        "\n",
        "Y - Bankrupt?: Class label 1 : Yes , 0: No \n",
        "\n",
        "X1 - ROA(C) before interest and depreciation before interest: Return On Total Assets(C)\n",
        "\n",
        "X2 - ROA(A) before interest and % after tax: Return On Total Assets(A)\n",
        "\n",
        "X3 - ROA(B) before interest and depreciation after tax: Return On Total Assets(B)\n",
        "\n",
        "X4 - Operating Gross Margin: Gross Profit/Net Sales\n",
        "\n",
        "X5 - Realized Sales Gross Margin: Realized Gross Profit/Net Sales\n",
        "\n",
        "X6 - Operating Profit Rate: Operating Income/Net Sales\n",
        "\n",
        "X7 - Pre-tax net Interest Rate: Pre-Tax Income/Net Sales\n",
        "\n",
        "X8 - After-tax net Interest Rate: Net Income/Net Sales\n",
        "\n",
        "X9 - Non-industry income and expenditure/revenue: Net Non-operating Income Ratio\n",
        "\n",
        "X10 - Continuous interest rate (after tax): Net Income-Exclude Disposal Gain or Loss/Net Sales\n",
        "\n",
        "X11 - Operating Expense Rate: Operating Expenses/Net Sales\n",
        "\n",
        "X12 - Research and development expense rate: (Research and Development Expenses)/Net Sales\n",
        "\n",
        "X13 - Cash flow rate: Cash Flow from Operating/Current Liabilities\n",
        "\n",
        "X14 - Interest-bearing debt interest rate: Interest-bearing Debt/Equity\n",
        "\n",
        "X15 - Tax rate (A): Effective Tax Rate\n",
        "\n",
        "X16 - Net Value Per Share (B): Book Value Per Share(B)\n",
        "\n",
        "X17 - Net Value Per Share (A): Book Value Per Share(A)\n",
        "\n",
        "X18 - Net Value Per Share (C): Book Value Per Share(C)\n",
        "\n",
        "X19 - Persistent EPS in the Last Four Seasons: EPS-Net Income\n",
        "\n",
        "X20 - Cash Flow Per Share\n",
        "\n",
        "X21 - Revenue Per Share (Yuan ¥): Sales Per Share\n",
        "\n",
        "X22 - Operating Profit Per Share (Yuan ¥): Operating Income Per Share\n",
        "\n",
        "X23 - Per Share Net profit before tax (Yuan ¥): Pretax Income Per Share\n",
        "\n",
        "X24 - Realized Sales Gross Profit Growth Rate\n",
        "\n",
        "X25 - Operating Profit Growth Rate: Operating Income Growth\n",
        "\n",
        "X26 - After-tax Net Profit Growth Rate: Net Income Growth\n",
        "\n",
        "X27 - Regular Net Profit Growth Rate: Continuing Operating Income after Tax Growth\n",
        "\n",
        "X28 - Continuous Net Profit Growth Rate: Net Income-Excluding Disposal Gain or Loss Growth\n",
        "\n",
        "X29 - Total Asset Growth Rate: Total Asset Growth\n",
        "\n",
        "X30 - Net Value Growth Rate: Total Equity Growth\n",
        "\n",
        "X31 - Total Asset Return Growth Rate Ratio: Return on Total Asset Growth\n",
        "\n",
        "X32 - Cash Reinvestment %: Cash Reinvestment Ratio\n",
        "\n",
        "X33 - Current Ratio\n",
        "\n",
        "X34 - Quick Ratio: Acid Test\n",
        "\n",
        "X35 - Interest Expense Ratio: Interest Expenses/Total Revenue\n",
        "\n",
        "X36 - Total debt/Total net worth: Total Liability/Equity Ratio\n",
        "\n",
        "X37 - Debt ratio %: Liability/Total Assets\n",
        "\n",
        "X38 - Net worth/Assets: Equity/Total Assets\n",
        "\n",
        "X39 - Long-term fund suitability ratio (A): (Long-term Liability+Equity)/Fixed Assets\n",
        "\n",
        "X40 - Borrowing dependency: Cost of Interest-bearing Debt\n",
        "\n",
        "X41 - Contingent liabilities/Net worth: Contingent Liability/Equity\n",
        "\n",
        "X42 - Operating profit/Paid-in capital: Operating Income/Capital\n",
        "\n",
        "X43 - Net profit before tax/Paid-in capital: Pretax Income/Capital\n",
        "\n",
        "X44 - Inventory and accounts receivable/Net value: (Inventory+Accounts Receivables)/Equity\n",
        "\n",
        "X45 - Total Asset Turnover\n",
        "\n",
        "X46 - Accounts Receivable Turnover\n",
        "\n",
        "X47 - Average Collection Days: Days Receivable Outstanding\n",
        "\n",
        "X48 - Inventory Turnover Rate (times)\n",
        "\n",
        "X49 - Fixed Assets Turnover Frequency\n",
        "\n",
        "X50 - Net Worth Turnover Rate (times): Equity Turnover\n",
        "\n",
        "X51 - Revenue per person: Sales Per Employee\n",
        "\n",
        "X52 - Operating profit per person: Operation Income Per Employee\n",
        "\n",
        "X53 - Allocation rate per person: Fixed Assets Per Employee\n",
        "\n",
        "X54 - Working Capital to Total Assets\n",
        "\n",
        "X55 - Quick Assets/Total Assets\n",
        "\n",
        "X56 - Current Assets/Total Assets\n",
        "\n",
        "X57 - Cash/Total Assets\n",
        "\n",
        "X58 - Quick Assets/Current Liability\n",
        "\n",
        "X59 - Cash/Current Liability\n",
        "\n",
        "X60 - Current Liability to Assets\n",
        "\n",
        "X61 - Operating Funds to Liability\n",
        "\n",
        "X62 - Inventory/Working Capital\n",
        "\n",
        "X63 - Inventory/Current Liability\n",
        "\n",
        "X64 - Current Liabilities/Liability\n",
        "\n",
        "X65 - Working Capital/Equity\n",
        "\n",
        "X66 - Current Liabilities/Equity\n",
        "\n",
        "X67 - Long-term Liability to Current Assets\n",
        "\n",
        "X68 - Retained Earnings to Total Assets\n",
        "\n",
        "X69 - Total income/Total expense\n",
        "\n",
        "X70 - Total expense/Assets\n",
        "\n",
        "X71 - Current Asset Turnover Rate: Current Assets to Sales\n",
        "\n",
        "X72 - Quick Asset Turnover Rate: Quick Assets to Sales\n",
        "\n",
        "X73 - Working capitcal Turnover Rate: Working Capital to Sales\n",
        "\n",
        "X74 - Cash Turnover Rate: Cash to Sales\n",
        "\n",
        "X75 - Cash Flow to Sales\n",
        "\n",
        "X76 - Fixed Assets to Assets\n",
        "\n",
        "X77 - Current Liability to Liability\n",
        "\n",
        "X78 - Current Liability to Equity\n",
        "\n",
        "X79 - Equity to Long-term Liability\n",
        "\n",
        "X80 - Cash Flow to Total Assets\n",
        "\n",
        "X81 - Cash Flow to Liability\n",
        "\n",
        "X82 - CFO to Assets\n",
        "\n",
        "X83 - Cash Flow to Equity\n",
        "\n",
        "X84 - Current Liability to Current Assets\n",
        "\n",
        "X85 - Liability-Assets Flag: 1 if Total Liability exceeds Total Assets, 0 otherwise\n",
        "\n",
        "X86 - Net Income to Total Assets\n",
        "\n",
        "X87 - Total assets to GNP price\n",
        "\n",
        "X88 - No-credit Interval\n",
        "\n",
        "X89 - Gross Profit to Sales\n",
        "\n",
        "X90 - Net Income to Stockholder's Equity\n",
        "\n",
        "X91 - Liability to Equity\n",
        "\n",
        "X92 - Degree of Financial Leverage (DFL)\n",
        "\n",
        "X93 - Interest Coverage Ratio (Interest expense to EBIT)\n",
        "\n",
        "X94 - Net Income Flag: 1 if Net Income is Negative for the last two years, 0 otherwise\n",
        "\n",
        "X95 - Equity to Liability"
      ]
    },
    {
      "cell_type": "code",
      "metadata": {
        "colab": {
          "base_uri": "https://localhost:8080/"
        },
        "id": "VMSn5Q8F2IsB",
        "outputId": "f871d568-5e4d-4f6b-d939-00f64a639362"
      },
      "source": [
        "from google.colab import drive\n",
        "drive.mount('/content/drive')"
      ],
      "execution_count": null,
      "outputs": [
        {
          "output_type": "stream",
          "name": "stdout",
          "text": [
            "Drive already mounted at /content/drive; to attempt to forcibly remount, call drive.mount(\"/content/drive\", force_remount=True).\n"
          ]
        }
      ]
    },
    {
      "cell_type": "code",
      "metadata": {
        "id": "OLmoiGkN3DY7"
      },
      "source": [
        "import pandas as pd\n",
        "import numpy as np\n",
        "import matplotlib.pyplot as plt\n",
        "import seaborn as sns\n",
        "import imblearn\n",
        "from imblearn.under_sampling import NearMiss\n",
        "from collections import Counter\n",
        "from sklearn.metrics import classification_report, confusion_matrix, accuracy_score, f1_score, recall_score, precision_score, roc_auc_score\n",
        "from sklearn.model_selection import GridSearchCV\n",
        "from imblearn.over_sampling import SMOTE"
      ],
      "execution_count": null,
      "outputs": []
    },
    {
      "cell_type": "code",
      "metadata": {
        "id": "r8I66IPu2JQw"
      },
      "source": [
        "df_1=pd.read_csv('/content/drive/MyDrive/Alma Better/Capstone Project/Copy of COMPANY BANKRUPTCY PREDICTION.csv')"
      ],
      "execution_count": null,
      "outputs": []
    },
    {
      "cell_type": "code",
      "metadata": {
        "colab": {
          "base_uri": "https://localhost:8080/",
          "height": 253
        },
        "id": "-LT5mPKb3Bl7",
        "outputId": "a44ba39e-0d84-4575-bb83-f045b0b0fb40"
      },
      "source": [
        "pd.set_option('display.max_columns', 96)\n",
        "pd.set_option('display.max_rows', 96)\n",
        "df_1.head(2)"
      ],
      "execution_count": null,
      "outputs": [
        {
          "output_type": "execute_result",
          "data": {
            "text/html": [
              "<div>\n",
              "<style scoped>\n",
              "    .dataframe tbody tr th:only-of-type {\n",
              "        vertical-align: middle;\n",
              "    }\n",
              "\n",
              "    .dataframe tbody tr th {\n",
              "        vertical-align: top;\n",
              "    }\n",
              "\n",
              "    .dataframe thead th {\n",
              "        text-align: right;\n",
              "    }\n",
              "</style>\n",
              "<table border=\"1\" class=\"dataframe\">\n",
              "  <thead>\n",
              "    <tr style=\"text-align: right;\">\n",
              "      <th></th>\n",
              "      <th>Bankrupt?</th>\n",
              "      <th>ROA(C) before interest and depreciation before interest</th>\n",
              "      <th>ROA(A) before interest and % after tax</th>\n",
              "      <th>ROA(B) before interest and depreciation after tax</th>\n",
              "      <th>Operating Gross Margin</th>\n",
              "      <th>Realized Sales Gross Margin</th>\n",
              "      <th>Operating Profit Rate</th>\n",
              "      <th>Pre-tax net Interest Rate</th>\n",
              "      <th>After-tax net Interest Rate</th>\n",
              "      <th>Non-industry income and expenditure/revenue</th>\n",
              "      <th>Continuous interest rate (after tax)</th>\n",
              "      <th>Operating Expense Rate</th>\n",
              "      <th>Research and development expense rate</th>\n",
              "      <th>Cash flow rate</th>\n",
              "      <th>Interest-bearing debt interest rate</th>\n",
              "      <th>Tax rate (A)</th>\n",
              "      <th>Net Value Per Share (B)</th>\n",
              "      <th>Net Value Per Share (A)</th>\n",
              "      <th>Net Value Per Share (C)</th>\n",
              "      <th>Persistent EPS in the Last Four Seasons</th>\n",
              "      <th>Cash Flow Per Share</th>\n",
              "      <th>Revenue Per Share (Yuan ¥)</th>\n",
              "      <th>Operating Profit Per Share (Yuan ¥)</th>\n",
              "      <th>Per Share Net profit before tax (Yuan ¥)</th>\n",
              "      <th>Realized Sales Gross Profit Growth Rate</th>\n",
              "      <th>Operating Profit Growth Rate</th>\n",
              "      <th>After-tax Net Profit Growth Rate</th>\n",
              "      <th>Regular Net Profit Growth Rate</th>\n",
              "      <th>Continuous Net Profit Growth Rate</th>\n",
              "      <th>Total Asset Growth Rate</th>\n",
              "      <th>Net Value Growth Rate</th>\n",
              "      <th>Total Asset Return Growth Rate Ratio</th>\n",
              "      <th>Cash Reinvestment %</th>\n",
              "      <th>Current Ratio</th>\n",
              "      <th>Quick Ratio</th>\n",
              "      <th>Interest Expense Ratio</th>\n",
              "      <th>Total debt/Total net worth</th>\n",
              "      <th>Debt ratio %</th>\n",
              "      <th>Net worth/Assets</th>\n",
              "      <th>Long-term fund suitability ratio (A)</th>\n",
              "      <th>Borrowing dependency</th>\n",
              "      <th>Contingent liabilities/Net worth</th>\n",
              "      <th>Operating profit/Paid-in capital</th>\n",
              "      <th>Net profit before tax/Paid-in capital</th>\n",
              "      <th>Inventory and accounts receivable/Net value</th>\n",
              "      <th>Total Asset Turnover</th>\n",
              "      <th>Accounts Receivable Turnover</th>\n",
              "      <th>Average Collection Days</th>\n",
              "      <th>Inventory Turnover Rate (times)</th>\n",
              "      <th>Fixed Assets Turnover Frequency</th>\n",
              "      <th>Net Worth Turnover Rate (times)</th>\n",
              "      <th>Revenue per person</th>\n",
              "      <th>Operating profit per person</th>\n",
              "      <th>Allocation rate per person</th>\n",
              "      <th>Working Capital to Total Assets</th>\n",
              "      <th>Quick Assets/Total Assets</th>\n",
              "      <th>Current Assets/Total Assets</th>\n",
              "      <th>Cash/Total Assets</th>\n",
              "      <th>Quick Assets/Current Liability</th>\n",
              "      <th>Cash/Current Liability</th>\n",
              "      <th>Current Liability to Assets</th>\n",
              "      <th>Operating Funds to Liability</th>\n",
              "      <th>Inventory/Working Capital</th>\n",
              "      <th>Inventory/Current Liability</th>\n",
              "      <th>Current Liabilities/Liability</th>\n",
              "      <th>Working Capital/Equity</th>\n",
              "      <th>Current Liabilities/Equity</th>\n",
              "      <th>Long-term Liability to Current Assets</th>\n",
              "      <th>Retained Earnings to Total Assets</th>\n",
              "      <th>Total income/Total expense</th>\n",
              "      <th>Total expense/Assets</th>\n",
              "      <th>Current Asset Turnover Rate</th>\n",
              "      <th>Quick Asset Turnover Rate</th>\n",
              "      <th>Working capitcal Turnover Rate</th>\n",
              "      <th>Cash Turnover Rate</th>\n",
              "      <th>Cash Flow to Sales</th>\n",
              "      <th>Fixed Assets to Assets</th>\n",
              "      <th>Current Liability to Liability</th>\n",
              "      <th>Current Liability to Equity</th>\n",
              "      <th>Equity to Long-term Liability</th>\n",
              "      <th>Cash Flow to Total Assets</th>\n",
              "      <th>Cash Flow to Liability</th>\n",
              "      <th>CFO to Assets</th>\n",
              "      <th>Cash Flow to Equity</th>\n",
              "      <th>Current Liability to Current Assets</th>\n",
              "      <th>Net Income to Total Assets</th>\n",
              "      <th>Total assets to GNP price</th>\n",
              "      <th>No-credit Interval</th>\n",
              "      <th>Gross Profit to Sales</th>\n",
              "      <th>Net Income to Stockholder's Equity</th>\n",
              "      <th>Liability to Equity</th>\n",
              "      <th>Degree of Financial Leverage (DFL)</th>\n",
              "      <th>Interest Coverage Ratio (Interest expense to EBIT)</th>\n",
              "      <th>Equity to Liability</th>\n",
              "    </tr>\n",
              "  </thead>\n",
              "  <tbody>\n",
              "    <tr>\n",
              "      <th>0</th>\n",
              "      <td>1</td>\n",
              "      <td>0.370594</td>\n",
              "      <td>0.424389</td>\n",
              "      <td>0.40575</td>\n",
              "      <td>0.601457</td>\n",
              "      <td>0.601457</td>\n",
              "      <td>0.998969</td>\n",
              "      <td>0.796887</td>\n",
              "      <td>0.808809</td>\n",
              "      <td>0.302646</td>\n",
              "      <td>0.780985</td>\n",
              "      <td>0.000126</td>\n",
              "      <td>0.0</td>\n",
              "      <td>0.458143</td>\n",
              "      <td>0.000725</td>\n",
              "      <td>0.0</td>\n",
              "      <td>0.147950</td>\n",
              "      <td>0.147950</td>\n",
              "      <td>0.147950</td>\n",
              "      <td>0.169141</td>\n",
              "      <td>0.311664</td>\n",
              "      <td>0.017560</td>\n",
              "      <td>0.095921</td>\n",
              "      <td>0.138736</td>\n",
              "      <td>0.022102</td>\n",
              "      <td>0.848195</td>\n",
              "      <td>0.688979</td>\n",
              "      <td>0.688979</td>\n",
              "      <td>0.217535</td>\n",
              "      <td>4.980000e+09</td>\n",
              "      <td>0.000327</td>\n",
              "      <td>0.263100</td>\n",
              "      <td>0.363725</td>\n",
              "      <td>0.002259</td>\n",
              "      <td>0.001208</td>\n",
              "      <td>0.629951</td>\n",
              "      <td>0.021266</td>\n",
              "      <td>0.207576</td>\n",
              "      <td>0.792424</td>\n",
              "      <td>0.005024</td>\n",
              "      <td>0.390284</td>\n",
              "      <td>0.006479</td>\n",
              "      <td>0.095885</td>\n",
              "      <td>0.137757</td>\n",
              "      <td>0.398036</td>\n",
              "      <td>0.086957</td>\n",
              "      <td>0.001814</td>\n",
              "      <td>0.003487</td>\n",
              "      <td>1.820926e-04</td>\n",
              "      <td>1.165007e-04</td>\n",
              "      <td>0.032903</td>\n",
              "      <td>0.034164</td>\n",
              "      <td>0.392913</td>\n",
              "      <td>0.037135</td>\n",
              "      <td>0.672775</td>\n",
              "      <td>0.166673</td>\n",
              "      <td>0.190643</td>\n",
              "      <td>0.004094</td>\n",
              "      <td>0.001997</td>\n",
              "      <td>0.000147</td>\n",
              "      <td>0.147308</td>\n",
              "      <td>0.334015</td>\n",
              "      <td>0.276920</td>\n",
              "      <td>0.001036</td>\n",
              "      <td>0.676269</td>\n",
              "      <td>0.721275</td>\n",
              "      <td>0.339077</td>\n",
              "      <td>0.025592</td>\n",
              "      <td>0.903225</td>\n",
              "      <td>0.002022</td>\n",
              "      <td>0.064856</td>\n",
              "      <td>7.010000e+08</td>\n",
              "      <td>6.550000e+09</td>\n",
              "      <td>0.593831</td>\n",
              "      <td>4.580000e+08</td>\n",
              "      <td>0.671568</td>\n",
              "      <td>0.424206</td>\n",
              "      <td>0.676269</td>\n",
              "      <td>0.339077</td>\n",
              "      <td>0.126549</td>\n",
              "      <td>0.637555</td>\n",
              "      <td>0.458609</td>\n",
              "      <td>0.520382</td>\n",
              "      <td>0.312905</td>\n",
              "      <td>0.118250</td>\n",
              "      <td>0.716845</td>\n",
              "      <td>0.009219</td>\n",
              "      <td>0.622879</td>\n",
              "      <td>0.601453</td>\n",
              "      <td>0.827890</td>\n",
              "      <td>0.290202</td>\n",
              "      <td>0.026601</td>\n",
              "      <td>0.564050</td>\n",
              "      <td>0.016469</td>\n",
              "    </tr>\n",
              "    <tr>\n",
              "      <th>1</th>\n",
              "      <td>1</td>\n",
              "      <td>0.464291</td>\n",
              "      <td>0.538214</td>\n",
              "      <td>0.51673</td>\n",
              "      <td>0.610235</td>\n",
              "      <td>0.610235</td>\n",
              "      <td>0.998946</td>\n",
              "      <td>0.797380</td>\n",
              "      <td>0.809301</td>\n",
              "      <td>0.303556</td>\n",
              "      <td>0.781506</td>\n",
              "      <td>0.000290</td>\n",
              "      <td>0.0</td>\n",
              "      <td>0.461867</td>\n",
              "      <td>0.000647</td>\n",
              "      <td>0.0</td>\n",
              "      <td>0.182251</td>\n",
              "      <td>0.182251</td>\n",
              "      <td>0.182251</td>\n",
              "      <td>0.208944</td>\n",
              "      <td>0.318137</td>\n",
              "      <td>0.021144</td>\n",
              "      <td>0.093722</td>\n",
              "      <td>0.169918</td>\n",
              "      <td>0.022080</td>\n",
              "      <td>0.848088</td>\n",
              "      <td>0.689693</td>\n",
              "      <td>0.689702</td>\n",
              "      <td>0.217620</td>\n",
              "      <td>6.110000e+09</td>\n",
              "      <td>0.000443</td>\n",
              "      <td>0.264516</td>\n",
              "      <td>0.376709</td>\n",
              "      <td>0.006016</td>\n",
              "      <td>0.004039</td>\n",
              "      <td>0.635172</td>\n",
              "      <td>0.012502</td>\n",
              "      <td>0.171176</td>\n",
              "      <td>0.828824</td>\n",
              "      <td>0.005059</td>\n",
              "      <td>0.376760</td>\n",
              "      <td>0.005835</td>\n",
              "      <td>0.093743</td>\n",
              "      <td>0.168962</td>\n",
              "      <td>0.397725</td>\n",
              "      <td>0.064468</td>\n",
              "      <td>0.001286</td>\n",
              "      <td>0.004917</td>\n",
              "      <td>9.360000e+09</td>\n",
              "      <td>7.190000e+08</td>\n",
              "      <td>0.025484</td>\n",
              "      <td>0.006889</td>\n",
              "      <td>0.391590</td>\n",
              "      <td>0.012335</td>\n",
              "      <td>0.751111</td>\n",
              "      <td>0.127236</td>\n",
              "      <td>0.182419</td>\n",
              "      <td>0.014948</td>\n",
              "      <td>0.004136</td>\n",
              "      <td>0.001384</td>\n",
              "      <td>0.056963</td>\n",
              "      <td>0.341106</td>\n",
              "      <td>0.289642</td>\n",
              "      <td>0.005210</td>\n",
              "      <td>0.308589</td>\n",
              "      <td>0.731975</td>\n",
              "      <td>0.329740</td>\n",
              "      <td>0.023947</td>\n",
              "      <td>0.931065</td>\n",
              "      <td>0.002226</td>\n",
              "      <td>0.025516</td>\n",
              "      <td>1.065198e-04</td>\n",
              "      <td>7.700000e+09</td>\n",
              "      <td>0.593916</td>\n",
              "      <td>2.490000e+09</td>\n",
              "      <td>0.671570</td>\n",
              "      <td>0.468828</td>\n",
              "      <td>0.308589</td>\n",
              "      <td>0.329740</td>\n",
              "      <td>0.120916</td>\n",
              "      <td>0.641100</td>\n",
              "      <td>0.459001</td>\n",
              "      <td>0.567101</td>\n",
              "      <td>0.314163</td>\n",
              "      <td>0.047775</td>\n",
              "      <td>0.795297</td>\n",
              "      <td>0.008323</td>\n",
              "      <td>0.623652</td>\n",
              "      <td>0.610237</td>\n",
              "      <td>0.839969</td>\n",
              "      <td>0.283846</td>\n",
              "      <td>0.264577</td>\n",
              "      <td>0.570175</td>\n",
              "      <td>0.020794</td>\n",
              "    </tr>\n",
              "  </tbody>\n",
              "</table>\n",
              "</div>"
            ],
            "text/plain": [
              "   Bankrupt?   ROA(C) before interest and depreciation before interest  \\\n",
              "0          1                                           0.370594          \n",
              "1          1                                           0.464291          \n",
              "\n",
              "    ROA(A) before interest and % after tax  \\\n",
              "0                                 0.424389   \n",
              "1                                 0.538214   \n",
              "\n",
              "    ROA(B) before interest and depreciation after tax  \\\n",
              "0                                            0.40575    \n",
              "1                                            0.51673    \n",
              "\n",
              "    Operating Gross Margin   Realized Sales Gross Margin  \\\n",
              "0                 0.601457                      0.601457   \n",
              "1                 0.610235                      0.610235   \n",
              "\n",
              "    Operating Profit Rate   Pre-tax net Interest Rate  \\\n",
              "0                0.998969                    0.796887   \n",
              "1                0.998946                    0.797380   \n",
              "\n",
              "    After-tax net Interest Rate   Non-industry income and expenditure/revenue  \\\n",
              "0                      0.808809                                      0.302646   \n",
              "1                      0.809301                                      0.303556   \n",
              "\n",
              "    Continuous interest rate (after tax)   Operating Expense Rate  \\\n",
              "0                               0.780985                 0.000126   \n",
              "1                               0.781506                 0.000290   \n",
              "\n",
              "    Research and development expense rate   Cash flow rate  \\\n",
              "0                                     0.0         0.458143   \n",
              "1                                     0.0         0.461867   \n",
              "\n",
              "    Interest-bearing debt interest rate   Tax rate (A)  \\\n",
              "0                              0.000725            0.0   \n",
              "1                              0.000647            0.0   \n",
              "\n",
              "    Net Value Per Share (B)   Net Value Per Share (A)  \\\n",
              "0                  0.147950                  0.147950   \n",
              "1                  0.182251                  0.182251   \n",
              "\n",
              "    Net Value Per Share (C)   Persistent EPS in the Last Four Seasons  \\\n",
              "0                  0.147950                                  0.169141   \n",
              "1                  0.182251                                  0.208944   \n",
              "\n",
              "    Cash Flow Per Share   Revenue Per Share (Yuan ¥)  \\\n",
              "0              0.311664                     0.017560   \n",
              "1              0.318137                     0.021144   \n",
              "\n",
              "    Operating Profit Per Share (Yuan ¥)  \\\n",
              "0                              0.095921   \n",
              "1                              0.093722   \n",
              "\n",
              "    Per Share Net profit before tax (Yuan ¥)  \\\n",
              "0                                   0.138736   \n",
              "1                                   0.169918   \n",
              "\n",
              "    Realized Sales Gross Profit Growth Rate   Operating Profit Growth Rate  \\\n",
              "0                                  0.022102                       0.848195   \n",
              "1                                  0.022080                       0.848088   \n",
              "\n",
              "    After-tax Net Profit Growth Rate   Regular Net Profit Growth Rate  \\\n",
              "0                           0.688979                         0.688979   \n",
              "1                           0.689693                         0.689702   \n",
              "\n",
              "    Continuous Net Profit Growth Rate   Total Asset Growth Rate  \\\n",
              "0                            0.217535              4.980000e+09   \n",
              "1                            0.217620              6.110000e+09   \n",
              "\n",
              "    Net Value Growth Rate   Total Asset Return Growth Rate Ratio  \\\n",
              "0                0.000327                               0.263100   \n",
              "1                0.000443                               0.264516   \n",
              "\n",
              "    Cash Reinvestment %   Current Ratio   Quick Ratio  \\\n",
              "0              0.363725        0.002259      0.001208   \n",
              "1              0.376709        0.006016      0.004039   \n",
              "\n",
              "    Interest Expense Ratio   Total debt/Total net worth   Debt ratio %  \\\n",
              "0                 0.629951                     0.021266       0.207576   \n",
              "1                 0.635172                     0.012502       0.171176   \n",
              "\n",
              "    Net worth/Assets   Long-term fund suitability ratio (A)  \\\n",
              "0           0.792424                               0.005024   \n",
              "1           0.828824                               0.005059   \n",
              "\n",
              "    Borrowing dependency   Contingent liabilities/Net worth  \\\n",
              "0               0.390284                           0.006479   \n",
              "1               0.376760                           0.005835   \n",
              "\n",
              "    Operating profit/Paid-in capital   Net profit before tax/Paid-in capital  \\\n",
              "0                           0.095885                                0.137757   \n",
              "1                           0.093743                                0.168962   \n",
              "\n",
              "    Inventory and accounts receivable/Net value   Total Asset Turnover  \\\n",
              "0                                      0.398036               0.086957   \n",
              "1                                      0.397725               0.064468   \n",
              "\n",
              "    Accounts Receivable Turnover   Average Collection Days  \\\n",
              "0                       0.001814                  0.003487   \n",
              "1                       0.001286                  0.004917   \n",
              "\n",
              "    Inventory Turnover Rate (times)   Fixed Assets Turnover Frequency  \\\n",
              "0                      1.820926e-04                      1.165007e-04   \n",
              "1                      9.360000e+09                      7.190000e+08   \n",
              "\n",
              "    Net Worth Turnover Rate (times)   Revenue per person  \\\n",
              "0                          0.032903             0.034164   \n",
              "1                          0.025484             0.006889   \n",
              "\n",
              "    Operating profit per person   Allocation rate per person  \\\n",
              "0                      0.392913                     0.037135   \n",
              "1                      0.391590                     0.012335   \n",
              "\n",
              "    Working Capital to Total Assets   Quick Assets/Total Assets  \\\n",
              "0                          0.672775                    0.166673   \n",
              "1                          0.751111                    0.127236   \n",
              "\n",
              "    Current Assets/Total Assets   Cash/Total Assets  \\\n",
              "0                      0.190643            0.004094   \n",
              "1                      0.182419            0.014948   \n",
              "\n",
              "    Quick Assets/Current Liability   Cash/Current Liability  \\\n",
              "0                         0.001997                 0.000147   \n",
              "1                         0.004136                 0.001384   \n",
              "\n",
              "    Current Liability to Assets   Operating Funds to Liability  \\\n",
              "0                      0.147308                       0.334015   \n",
              "1                      0.056963                       0.341106   \n",
              "\n",
              "    Inventory/Working Capital   Inventory/Current Liability  \\\n",
              "0                    0.276920                      0.001036   \n",
              "1                    0.289642                      0.005210   \n",
              "\n",
              "    Current Liabilities/Liability   Working Capital/Equity  \\\n",
              "0                        0.676269                 0.721275   \n",
              "1                        0.308589                 0.731975   \n",
              "\n",
              "    Current Liabilities/Equity   Long-term Liability to Current Assets  \\\n",
              "0                     0.339077                                0.025592   \n",
              "1                     0.329740                                0.023947   \n",
              "\n",
              "    Retained Earnings to Total Assets   Total income/Total expense  \\\n",
              "0                            0.903225                     0.002022   \n",
              "1                            0.931065                     0.002226   \n",
              "\n",
              "    Total expense/Assets   Current Asset Turnover Rate  \\\n",
              "0               0.064856                  7.010000e+08   \n",
              "1               0.025516                  1.065198e-04   \n",
              "\n",
              "    Quick Asset Turnover Rate   Working capitcal Turnover Rate  \\\n",
              "0                6.550000e+09                         0.593831   \n",
              "1                7.700000e+09                         0.593916   \n",
              "\n",
              "    Cash Turnover Rate   Cash Flow to Sales   Fixed Assets to Assets  \\\n",
              "0         4.580000e+08             0.671568                 0.424206   \n",
              "1         2.490000e+09             0.671570                 0.468828   \n",
              "\n",
              "    Current Liability to Liability   Current Liability to Equity  \\\n",
              "0                         0.676269                      0.339077   \n",
              "1                         0.308589                      0.329740   \n",
              "\n",
              "    Equity to Long-term Liability   Cash Flow to Total Assets  \\\n",
              "0                        0.126549                    0.637555   \n",
              "1                        0.120916                    0.641100   \n",
              "\n",
              "    Cash Flow to Liability   CFO to Assets   Cash Flow to Equity  \\\n",
              "0                 0.458609        0.520382              0.312905   \n",
              "1                 0.459001        0.567101              0.314163   \n",
              "\n",
              "    Current Liability to Current Assets   Net Income to Total Assets  \\\n",
              "0                              0.118250                     0.716845   \n",
              "1                              0.047775                     0.795297   \n",
              "\n",
              "    Total assets to GNP price   No-credit Interval   Gross Profit to Sales  \\\n",
              "0                    0.009219             0.622879                0.601453   \n",
              "1                    0.008323             0.623652                0.610237   \n",
              "\n",
              "    Net Income to Stockholder's Equity   Liability to Equity  \\\n",
              "0                             0.827890              0.290202   \n",
              "1                             0.839969              0.283846   \n",
              "\n",
              "    Degree of Financial Leverage (DFL)  \\\n",
              "0                             0.026601   \n",
              "1                             0.264577   \n",
              "\n",
              "    Interest Coverage Ratio (Interest expense to EBIT)   Equity to Liability  \n",
              "0                                           0.564050                0.016469  \n",
              "1                                           0.570175                0.020794  "
            ]
          },
          "metadata": {},
          "execution_count": 1499
        }
      ]
    },
    {
      "cell_type": "markdown",
      "metadata": {
        "id": "HuIldhX8zPCt"
      },
      "source": [
        "# **Exploratory Data Analysis**"
      ]
    },
    {
      "cell_type": "code",
      "metadata": {
        "colab": {
          "base_uri": "https://localhost:8080/"
        },
        "id": "anUPK_Lu6PGC",
        "outputId": "5880c915-5fd0-4bdb-b1c3-ef145d0f7895"
      },
      "source": [
        "print(df_1.isna().sum().sum())\n",
        "print(np.isnan(df_1).sum().sum())\n",
        "print(df_1.isnull().sum().sum())"
      ],
      "execution_count": null,
      "outputs": [
        {
          "output_type": "stream",
          "name": "stdout",
          "text": [
            "0\n",
            "0\n",
            "0\n"
          ]
        }
      ]
    },
    {
      "cell_type": "code",
      "metadata": {
        "id": "Ivy5J0o_4skX"
      },
      "source": [
        "list_1=[]\n",
        "for i in df_1.columns:\n",
        "  x=df_1[i].value_counts()\n",
        "  if len(x)<=2:\n",
        "    list_1.append(i)\n",
        "  else:\n",
        "    continue"
      ],
      "execution_count": null,
      "outputs": []
    },
    {
      "cell_type": "code",
      "metadata": {
        "colab": {
          "base_uri": "https://localhost:8080/"
        },
        "id": "NfJfh7lg4uzd",
        "outputId": "e2d86779-7e4f-4054-e932-45c02e684849"
      },
      "source": [
        "list_1"
      ],
      "execution_count": null,
      "outputs": [
        {
          "output_type": "execute_result",
          "data": {
            "text/plain": [
              "['Bankrupt?', ' Liability-Assets Flag', ' Net Income Flag']"
            ]
          },
          "metadata": {},
          "execution_count": 1477
        }
      ]
    },
    {
      "cell_type": "markdown",
      "metadata": {
        "id": "UQYP5tNB3Sk0"
      },
      "source": [
        "### Liability-Assets Flag"
      ]
    },
    {
      "cell_type": "code",
      "metadata": {
        "colab": {
          "base_uri": "https://localhost:8080/"
        },
        "id": "8CjIBiXZ1TIj",
        "outputId": "4a7a665e-5e26-4a1a-a1e2-d19a78bc34c8"
      },
      "source": [
        "df_1[' Liability-Assets Flag'].unique()"
      ],
      "execution_count": null,
      "outputs": [
        {
          "output_type": "execute_result",
          "data": {
            "text/plain": [
              "array([0, 1])"
            ]
          },
          "metadata": {},
          "execution_count": 1478
        }
      ]
    },
    {
      "cell_type": "code",
      "metadata": {
        "colab": {
          "base_uri": "https://localhost:8080/"
        },
        "id": "N5k0hHYf2R7U",
        "outputId": "3d7d0210-1aec-4bdf-e37e-be09e03e6a7f"
      },
      "source": [
        "df_1[' Liability-Assets Flag'].value_counts()"
      ],
      "execution_count": null,
      "outputs": [
        {
          "output_type": "execute_result",
          "data": {
            "text/plain": [
              "0    6811\n",
              "1       8\n",
              "Name:  Liability-Assets Flag, dtype: int64"
            ]
          },
          "metadata": {},
          "execution_count": 1479
        }
      ]
    },
    {
      "cell_type": "markdown",
      "metadata": {
        "id": "HszwLw_B29Xk"
      },
      "source": [
        "## **This feature has a very large class imbalance and we can drop this feature.**"
      ]
    },
    {
      "cell_type": "markdown",
      "metadata": {
        "id": "0fuOFzr535Aj"
      },
      "source": [
        "## Net Income Flag"
      ]
    },
    {
      "cell_type": "code",
      "metadata": {
        "colab": {
          "base_uri": "https://localhost:8080/"
        },
        "id": "lqnwjGHy3YSG",
        "outputId": "69440d1a-e59f-444c-9434-0da229e780f0"
      },
      "source": [
        "df_1[' Net Income Flag'].unique()"
      ],
      "execution_count": null,
      "outputs": [
        {
          "output_type": "execute_result",
          "data": {
            "text/plain": [
              "array([1])"
            ]
          },
          "metadata": {},
          "execution_count": 1480
        }
      ]
    },
    {
      "cell_type": "markdown",
      "metadata": {
        "id": "kCfzGiSp3mRN"
      },
      "source": [
        "## **This feature has just one unique value and it wont be of any importance.**"
      ]
    },
    {
      "cell_type": "code",
      "metadata": {
        "id": "fPmpD9jJ3k4N"
      },
      "source": [
        "df_1.drop(columns=[' Net Income Flag', ' Liability-Assets Flag'],inplace=True)"
      ],
      "execution_count": null,
      "outputs": []
    },
    {
      "cell_type": "code",
      "metadata": {
        "colab": {
          "base_uri": "https://localhost:8080/"
        },
        "id": "Ia9_qlmn3LKM",
        "outputId": "f3935223-77c4-4dbd-eb17-80db99513efe"
      },
      "source": [
        "df_1.shape"
      ],
      "execution_count": null,
      "outputs": [
        {
          "output_type": "execute_result",
          "data": {
            "text/plain": [
              "(6819, 94)"
            ]
          },
          "metadata": {},
          "execution_count": 1482
        }
      ]
    },
    {
      "cell_type": "code",
      "metadata": {
        "colab": {
          "base_uri": "https://localhost:8080/",
          "height": 406
        },
        "id": "51oNo1gt4-85",
        "outputId": "779f025d-622e-4ba0-88e3-475bfcc0d43f"
      },
      "source": [
        "df_1.describe()"
      ],
      "execution_count": null,
      "outputs": [
        {
          "output_type": "execute_result",
          "data": {
            "text/html": [
              "<div>\n",
              "<style scoped>\n",
              "    .dataframe tbody tr th:only-of-type {\n",
              "        vertical-align: middle;\n",
              "    }\n",
              "\n",
              "    .dataframe tbody tr th {\n",
              "        vertical-align: top;\n",
              "    }\n",
              "\n",
              "    .dataframe thead th {\n",
              "        text-align: right;\n",
              "    }\n",
              "</style>\n",
              "<table border=\"1\" class=\"dataframe\">\n",
              "  <thead>\n",
              "    <tr style=\"text-align: right;\">\n",
              "      <th></th>\n",
              "      <th>Bankrupt?</th>\n",
              "      <th>ROA(C) before interest and depreciation before interest</th>\n",
              "      <th>ROA(A) before interest and % after tax</th>\n",
              "      <th>ROA(B) before interest and depreciation after tax</th>\n",
              "      <th>Operating Gross Margin</th>\n",
              "      <th>Realized Sales Gross Margin</th>\n",
              "      <th>Operating Profit Rate</th>\n",
              "      <th>Pre-tax net Interest Rate</th>\n",
              "      <th>After-tax net Interest Rate</th>\n",
              "      <th>Non-industry income and expenditure/revenue</th>\n",
              "      <th>Continuous interest rate (after tax)</th>\n",
              "      <th>Operating Expense Rate</th>\n",
              "      <th>Research and development expense rate</th>\n",
              "      <th>Cash flow rate</th>\n",
              "      <th>Interest-bearing debt interest rate</th>\n",
              "      <th>Tax rate (A)</th>\n",
              "      <th>Net Value Per Share (B)</th>\n",
              "      <th>Net Value Per Share (A)</th>\n",
              "      <th>Net Value Per Share (C)</th>\n",
              "      <th>Persistent EPS in the Last Four Seasons</th>\n",
              "      <th>Cash Flow Per Share</th>\n",
              "      <th>Revenue Per Share (Yuan ¥)</th>\n",
              "      <th>Operating Profit Per Share (Yuan ¥)</th>\n",
              "      <th>Per Share Net profit before tax (Yuan ¥)</th>\n",
              "      <th>Realized Sales Gross Profit Growth Rate</th>\n",
              "      <th>Operating Profit Growth Rate</th>\n",
              "      <th>After-tax Net Profit Growth Rate</th>\n",
              "      <th>Regular Net Profit Growth Rate</th>\n",
              "      <th>Continuous Net Profit Growth Rate</th>\n",
              "      <th>Total Asset Growth Rate</th>\n",
              "      <th>Net Value Growth Rate</th>\n",
              "      <th>Total Asset Return Growth Rate Ratio</th>\n",
              "      <th>Cash Reinvestment %</th>\n",
              "      <th>Current Ratio</th>\n",
              "      <th>Quick Ratio</th>\n",
              "      <th>Interest Expense Ratio</th>\n",
              "      <th>Total debt/Total net worth</th>\n",
              "      <th>Debt ratio %</th>\n",
              "      <th>Net worth/Assets</th>\n",
              "      <th>Long-term fund suitability ratio (A)</th>\n",
              "      <th>Borrowing dependency</th>\n",
              "      <th>Contingent liabilities/Net worth</th>\n",
              "      <th>Operating profit/Paid-in capital</th>\n",
              "      <th>Net profit before tax/Paid-in capital</th>\n",
              "      <th>Inventory and accounts receivable/Net value</th>\n",
              "      <th>Total Asset Turnover</th>\n",
              "      <th>Accounts Receivable Turnover</th>\n",
              "      <th>Average Collection Days</th>\n",
              "      <th>Inventory Turnover Rate (times)</th>\n",
              "      <th>Fixed Assets Turnover Frequency</th>\n",
              "      <th>Net Worth Turnover Rate (times)</th>\n",
              "      <th>Revenue per person</th>\n",
              "      <th>Operating profit per person</th>\n",
              "      <th>Allocation rate per person</th>\n",
              "      <th>Working Capital to Total Assets</th>\n",
              "      <th>Quick Assets/Total Assets</th>\n",
              "      <th>Current Assets/Total Assets</th>\n",
              "      <th>Cash/Total Assets</th>\n",
              "      <th>Quick Assets/Current Liability</th>\n",
              "      <th>Cash/Current Liability</th>\n",
              "      <th>Current Liability to Assets</th>\n",
              "      <th>Operating Funds to Liability</th>\n",
              "      <th>Inventory/Working Capital</th>\n",
              "      <th>Inventory/Current Liability</th>\n",
              "      <th>Current Liabilities/Liability</th>\n",
              "      <th>Working Capital/Equity</th>\n",
              "      <th>Current Liabilities/Equity</th>\n",
              "      <th>Long-term Liability to Current Assets</th>\n",
              "      <th>Retained Earnings to Total Assets</th>\n",
              "      <th>Total income/Total expense</th>\n",
              "      <th>Total expense/Assets</th>\n",
              "      <th>Current Asset Turnover Rate</th>\n",
              "      <th>Quick Asset Turnover Rate</th>\n",
              "      <th>Working capitcal Turnover Rate</th>\n",
              "      <th>Cash Turnover Rate</th>\n",
              "      <th>Cash Flow to Sales</th>\n",
              "      <th>Fixed Assets to Assets</th>\n",
              "      <th>Current Liability to Liability</th>\n",
              "      <th>Current Liability to Equity</th>\n",
              "      <th>Equity to Long-term Liability</th>\n",
              "      <th>Cash Flow to Total Assets</th>\n",
              "      <th>Cash Flow to Liability</th>\n",
              "      <th>CFO to Assets</th>\n",
              "      <th>Cash Flow to Equity</th>\n",
              "      <th>Current Liability to Current Assets</th>\n",
              "      <th>Net Income to Total Assets</th>\n",
              "      <th>Total assets to GNP price</th>\n",
              "      <th>No-credit Interval</th>\n",
              "      <th>Gross Profit to Sales</th>\n",
              "      <th>Net Income to Stockholder's Equity</th>\n",
              "      <th>Liability to Equity</th>\n",
              "      <th>Degree of Financial Leverage (DFL)</th>\n",
              "      <th>Interest Coverage Ratio (Interest expense to EBIT)</th>\n",
              "      <th>Equity to Liability</th>\n",
              "    </tr>\n",
              "  </thead>\n",
              "  <tbody>\n",
              "    <tr>\n",
              "      <th>count</th>\n",
              "      <td>6819.000000</td>\n",
              "      <td>6819.000000</td>\n",
              "      <td>6819.000000</td>\n",
              "      <td>6819.000000</td>\n",
              "      <td>6819.000000</td>\n",
              "      <td>6819.000000</td>\n",
              "      <td>6819.000000</td>\n",
              "      <td>6819.000000</td>\n",
              "      <td>6819.000000</td>\n",
              "      <td>6819.000000</td>\n",
              "      <td>6819.000000</td>\n",
              "      <td>6.819000e+03</td>\n",
              "      <td>6.819000e+03</td>\n",
              "      <td>6819.000000</td>\n",
              "      <td>6.819000e+03</td>\n",
              "      <td>6819.000000</td>\n",
              "      <td>6819.000000</td>\n",
              "      <td>6819.000000</td>\n",
              "      <td>6819.000000</td>\n",
              "      <td>6819.000000</td>\n",
              "      <td>6819.000000</td>\n",
              "      <td>6.819000e+03</td>\n",
              "      <td>6819.000000</td>\n",
              "      <td>6819.000000</td>\n",
              "      <td>6819.000000</td>\n",
              "      <td>6819.000000</td>\n",
              "      <td>6819.000000</td>\n",
              "      <td>6819.000000</td>\n",
              "      <td>6819.000000</td>\n",
              "      <td>6.819000e+03</td>\n",
              "      <td>6.819000e+03</td>\n",
              "      <td>6819.000000</td>\n",
              "      <td>6819.000000</td>\n",
              "      <td>6.819000e+03</td>\n",
              "      <td>6.819000e+03</td>\n",
              "      <td>6819.000000</td>\n",
              "      <td>6.819000e+03</td>\n",
              "      <td>6819.000000</td>\n",
              "      <td>6819.000000</td>\n",
              "      <td>6819.000000</td>\n",
              "      <td>6819.000000</td>\n",
              "      <td>6819.000000</td>\n",
              "      <td>6819.000000</td>\n",
              "      <td>6819.000000</td>\n",
              "      <td>6819.000000</td>\n",
              "      <td>6819.000000</td>\n",
              "      <td>6.819000e+03</td>\n",
              "      <td>6.819000e+03</td>\n",
              "      <td>6.819000e+03</td>\n",
              "      <td>6.819000e+03</td>\n",
              "      <td>6819.000000</td>\n",
              "      <td>6.819000e+03</td>\n",
              "      <td>6819.000000</td>\n",
              "      <td>6.819000e+03</td>\n",
              "      <td>6819.000000</td>\n",
              "      <td>6819.000000</td>\n",
              "      <td>6819.000000</td>\n",
              "      <td>6819.000000</td>\n",
              "      <td>6.819000e+03</td>\n",
              "      <td>6.819000e+03</td>\n",
              "      <td>6819.000000</td>\n",
              "      <td>6819.000000</td>\n",
              "      <td>6819.000000</td>\n",
              "      <td>6.819000e+03</td>\n",
              "      <td>6819.000000</td>\n",
              "      <td>6819.000000</td>\n",
              "      <td>6819.000000</td>\n",
              "      <td>6.819000e+03</td>\n",
              "      <td>6819.000000</td>\n",
              "      <td>6819.000000</td>\n",
              "      <td>6819.000000</td>\n",
              "      <td>6.819000e+03</td>\n",
              "      <td>6.819000e+03</td>\n",
              "      <td>6819.000000</td>\n",
              "      <td>6.819000e+03</td>\n",
              "      <td>6819.000000</td>\n",
              "      <td>6.819000e+03</td>\n",
              "      <td>6819.000000</td>\n",
              "      <td>6819.000000</td>\n",
              "      <td>6819.000000</td>\n",
              "      <td>6819.000000</td>\n",
              "      <td>6819.000000</td>\n",
              "      <td>6819.000000</td>\n",
              "      <td>6819.000000</td>\n",
              "      <td>6819.000000</td>\n",
              "      <td>6819.000000</td>\n",
              "      <td>6.819000e+03</td>\n",
              "      <td>6819.000000</td>\n",
              "      <td>6819.000000</td>\n",
              "      <td>6819.000000</td>\n",
              "      <td>6819.000000</td>\n",
              "      <td>6819.000000</td>\n",
              "      <td>6819.000000</td>\n",
              "      <td>6819.000000</td>\n",
              "    </tr>\n",
              "    <tr>\n",
              "      <th>mean</th>\n",
              "      <td>0.032263</td>\n",
              "      <td>0.505180</td>\n",
              "      <td>0.558625</td>\n",
              "      <td>0.553589</td>\n",
              "      <td>0.607948</td>\n",
              "      <td>0.607929</td>\n",
              "      <td>0.998755</td>\n",
              "      <td>0.797190</td>\n",
              "      <td>0.809084</td>\n",
              "      <td>0.303623</td>\n",
              "      <td>0.781381</td>\n",
              "      <td>1.995347e+09</td>\n",
              "      <td>1.950427e+09</td>\n",
              "      <td>0.467431</td>\n",
              "      <td>1.644801e+07</td>\n",
              "      <td>0.115001</td>\n",
              "      <td>0.190661</td>\n",
              "      <td>0.190633</td>\n",
              "      <td>0.190672</td>\n",
              "      <td>0.228813</td>\n",
              "      <td>0.323482</td>\n",
              "      <td>1.328641e+06</td>\n",
              "      <td>0.109091</td>\n",
              "      <td>0.184361</td>\n",
              "      <td>0.022408</td>\n",
              "      <td>0.847980</td>\n",
              "      <td>0.689146</td>\n",
              "      <td>0.689150</td>\n",
              "      <td>0.217639</td>\n",
              "      <td>5.508097e+09</td>\n",
              "      <td>1.566212e+06</td>\n",
              "      <td>0.264248</td>\n",
              "      <td>0.379677</td>\n",
              "      <td>4.032850e+05</td>\n",
              "      <td>8.376595e+06</td>\n",
              "      <td>0.630991</td>\n",
              "      <td>4.416337e+06</td>\n",
              "      <td>0.113177</td>\n",
              "      <td>0.886823</td>\n",
              "      <td>0.008783</td>\n",
              "      <td>0.374654</td>\n",
              "      <td>0.005968</td>\n",
              "      <td>0.108977</td>\n",
              "      <td>0.182715</td>\n",
              "      <td>0.402459</td>\n",
              "      <td>0.141606</td>\n",
              "      <td>1.278971e+07</td>\n",
              "      <td>9.826221e+06</td>\n",
              "      <td>2.149106e+09</td>\n",
              "      <td>1.008596e+09</td>\n",
              "      <td>0.038595</td>\n",
              "      <td>2.325854e+06</td>\n",
              "      <td>0.400671</td>\n",
              "      <td>1.125579e+07</td>\n",
              "      <td>0.814125</td>\n",
              "      <td>0.400132</td>\n",
              "      <td>0.522273</td>\n",
              "      <td>0.124095</td>\n",
              "      <td>3.592902e+06</td>\n",
              "      <td>3.715999e+07</td>\n",
              "      <td>0.090673</td>\n",
              "      <td>0.353828</td>\n",
              "      <td>0.277395</td>\n",
              "      <td>5.580680e+07</td>\n",
              "      <td>0.761599</td>\n",
              "      <td>0.735817</td>\n",
              "      <td>0.331410</td>\n",
              "      <td>5.416004e+07</td>\n",
              "      <td>0.934733</td>\n",
              "      <td>0.002549</td>\n",
              "      <td>0.029184</td>\n",
              "      <td>1.195856e+09</td>\n",
              "      <td>2.163735e+09</td>\n",
              "      <td>0.594006</td>\n",
              "      <td>2.471977e+09</td>\n",
              "      <td>0.671531</td>\n",
              "      <td>1.220121e+06</td>\n",
              "      <td>0.761599</td>\n",
              "      <td>0.331410</td>\n",
              "      <td>0.115645</td>\n",
              "      <td>0.649731</td>\n",
              "      <td>0.461849</td>\n",
              "      <td>0.593415</td>\n",
              "      <td>0.315582</td>\n",
              "      <td>0.031506</td>\n",
              "      <td>0.807760</td>\n",
              "      <td>1.862942e+07</td>\n",
              "      <td>0.623915</td>\n",
              "      <td>0.607946</td>\n",
              "      <td>0.840402</td>\n",
              "      <td>0.280365</td>\n",
              "      <td>0.027541</td>\n",
              "      <td>0.565358</td>\n",
              "      <td>0.047578</td>\n",
              "    </tr>\n",
              "    <tr>\n",
              "      <th>std</th>\n",
              "      <td>0.176710</td>\n",
              "      <td>0.060686</td>\n",
              "      <td>0.065620</td>\n",
              "      <td>0.061595</td>\n",
              "      <td>0.016934</td>\n",
              "      <td>0.016916</td>\n",
              "      <td>0.013010</td>\n",
              "      <td>0.012869</td>\n",
              "      <td>0.013601</td>\n",
              "      <td>0.011163</td>\n",
              "      <td>0.012679</td>\n",
              "      <td>3.237684e+09</td>\n",
              "      <td>2.598292e+09</td>\n",
              "      <td>0.017036</td>\n",
              "      <td>1.082750e+08</td>\n",
              "      <td>0.138667</td>\n",
              "      <td>0.033390</td>\n",
              "      <td>0.033474</td>\n",
              "      <td>0.033480</td>\n",
              "      <td>0.033263</td>\n",
              "      <td>0.017611</td>\n",
              "      <td>5.170709e+07</td>\n",
              "      <td>0.027942</td>\n",
              "      <td>0.033180</td>\n",
              "      <td>0.012079</td>\n",
              "      <td>0.010752</td>\n",
              "      <td>0.013853</td>\n",
              "      <td>0.013910</td>\n",
              "      <td>0.010063</td>\n",
              "      <td>2.897718e+09</td>\n",
              "      <td>1.141594e+08</td>\n",
              "      <td>0.009634</td>\n",
              "      <td>0.020737</td>\n",
              "      <td>3.330216e+07</td>\n",
              "      <td>2.446847e+08</td>\n",
              "      <td>0.011238</td>\n",
              "      <td>1.684069e+08</td>\n",
              "      <td>0.053920</td>\n",
              "      <td>0.053920</td>\n",
              "      <td>0.028153</td>\n",
              "      <td>0.016286</td>\n",
              "      <td>0.012188</td>\n",
              "      <td>0.027782</td>\n",
              "      <td>0.030785</td>\n",
              "      <td>0.013324</td>\n",
              "      <td>0.101145</td>\n",
              "      <td>2.782598e+08</td>\n",
              "      <td>2.563589e+08</td>\n",
              "      <td>3.247967e+09</td>\n",
              "      <td>2.477557e+09</td>\n",
              "      <td>0.036680</td>\n",
              "      <td>1.366327e+08</td>\n",
              "      <td>0.032720</td>\n",
              "      <td>2.945063e+08</td>\n",
              "      <td>0.059054</td>\n",
              "      <td>0.201998</td>\n",
              "      <td>0.218112</td>\n",
              "      <td>0.139251</td>\n",
              "      <td>1.716209e+08</td>\n",
              "      <td>5.103509e+08</td>\n",
              "      <td>0.050290</td>\n",
              "      <td>0.035147</td>\n",
              "      <td>0.010469</td>\n",
              "      <td>5.820516e+08</td>\n",
              "      <td>0.206677</td>\n",
              "      <td>0.011678</td>\n",
              "      <td>0.013488</td>\n",
              "      <td>5.702706e+08</td>\n",
              "      <td>0.025564</td>\n",
              "      <td>0.012093</td>\n",
              "      <td>0.027149</td>\n",
              "      <td>2.821161e+09</td>\n",
              "      <td>3.374944e+09</td>\n",
              "      <td>0.008959</td>\n",
              "      <td>2.938623e+09</td>\n",
              "      <td>0.009341</td>\n",
              "      <td>1.007542e+08</td>\n",
              "      <td>0.206677</td>\n",
              "      <td>0.013488</td>\n",
              "      <td>0.019529</td>\n",
              "      <td>0.047372</td>\n",
              "      <td>0.029943</td>\n",
              "      <td>0.058561</td>\n",
              "      <td>0.012961</td>\n",
              "      <td>0.030845</td>\n",
              "      <td>0.040332</td>\n",
              "      <td>3.764501e+08</td>\n",
              "      <td>0.012290</td>\n",
              "      <td>0.016934</td>\n",
              "      <td>0.014523</td>\n",
              "      <td>0.014463</td>\n",
              "      <td>0.015668</td>\n",
              "      <td>0.013214</td>\n",
              "      <td>0.050014</td>\n",
              "    </tr>\n",
              "    <tr>\n",
              "      <th>min</th>\n",
              "      <td>0.000000</td>\n",
              "      <td>0.000000</td>\n",
              "      <td>0.000000</td>\n",
              "      <td>0.000000</td>\n",
              "      <td>0.000000</td>\n",
              "      <td>0.000000</td>\n",
              "      <td>0.000000</td>\n",
              "      <td>0.000000</td>\n",
              "      <td>0.000000</td>\n",
              "      <td>0.000000</td>\n",
              "      <td>0.000000</td>\n",
              "      <td>0.000000e+00</td>\n",
              "      <td>0.000000e+00</td>\n",
              "      <td>0.000000</td>\n",
              "      <td>0.000000e+00</td>\n",
              "      <td>0.000000</td>\n",
              "      <td>0.000000</td>\n",
              "      <td>0.000000</td>\n",
              "      <td>0.000000</td>\n",
              "      <td>0.000000</td>\n",
              "      <td>0.000000</td>\n",
              "      <td>0.000000e+00</td>\n",
              "      <td>0.000000</td>\n",
              "      <td>0.000000</td>\n",
              "      <td>0.000000</td>\n",
              "      <td>0.000000</td>\n",
              "      <td>0.000000</td>\n",
              "      <td>0.000000</td>\n",
              "      <td>0.000000</td>\n",
              "      <td>0.000000e+00</td>\n",
              "      <td>0.000000e+00</td>\n",
              "      <td>0.000000</td>\n",
              "      <td>0.000000</td>\n",
              "      <td>0.000000e+00</td>\n",
              "      <td>0.000000e+00</td>\n",
              "      <td>0.000000</td>\n",
              "      <td>0.000000e+00</td>\n",
              "      <td>0.000000</td>\n",
              "      <td>0.000000</td>\n",
              "      <td>0.000000</td>\n",
              "      <td>0.000000</td>\n",
              "      <td>0.000000</td>\n",
              "      <td>0.000000</td>\n",
              "      <td>0.000000</td>\n",
              "      <td>0.000000</td>\n",
              "      <td>0.000000</td>\n",
              "      <td>0.000000e+00</td>\n",
              "      <td>0.000000e+00</td>\n",
              "      <td>0.000000e+00</td>\n",
              "      <td>0.000000e+00</td>\n",
              "      <td>0.000000</td>\n",
              "      <td>0.000000e+00</td>\n",
              "      <td>0.000000</td>\n",
              "      <td>0.000000e+00</td>\n",
              "      <td>0.000000</td>\n",
              "      <td>0.000000</td>\n",
              "      <td>0.000000</td>\n",
              "      <td>0.000000</td>\n",
              "      <td>0.000000e+00</td>\n",
              "      <td>0.000000e+00</td>\n",
              "      <td>0.000000</td>\n",
              "      <td>0.000000</td>\n",
              "      <td>0.000000</td>\n",
              "      <td>0.000000e+00</td>\n",
              "      <td>0.000000</td>\n",
              "      <td>0.000000</td>\n",
              "      <td>0.000000</td>\n",
              "      <td>0.000000e+00</td>\n",
              "      <td>0.000000</td>\n",
              "      <td>0.000000</td>\n",
              "      <td>0.000000</td>\n",
              "      <td>0.000000e+00</td>\n",
              "      <td>0.000000e+00</td>\n",
              "      <td>0.000000</td>\n",
              "      <td>0.000000e+00</td>\n",
              "      <td>0.000000</td>\n",
              "      <td>0.000000e+00</td>\n",
              "      <td>0.000000</td>\n",
              "      <td>0.000000</td>\n",
              "      <td>0.000000</td>\n",
              "      <td>0.000000</td>\n",
              "      <td>0.000000</td>\n",
              "      <td>0.000000</td>\n",
              "      <td>0.000000</td>\n",
              "      <td>0.000000</td>\n",
              "      <td>0.000000</td>\n",
              "      <td>0.000000e+00</td>\n",
              "      <td>0.000000</td>\n",
              "      <td>0.000000</td>\n",
              "      <td>0.000000</td>\n",
              "      <td>0.000000</td>\n",
              "      <td>0.000000</td>\n",
              "      <td>0.000000</td>\n",
              "      <td>0.000000</td>\n",
              "    </tr>\n",
              "    <tr>\n",
              "      <th>25%</th>\n",
              "      <td>0.000000</td>\n",
              "      <td>0.476527</td>\n",
              "      <td>0.535543</td>\n",
              "      <td>0.527277</td>\n",
              "      <td>0.600445</td>\n",
              "      <td>0.600434</td>\n",
              "      <td>0.998969</td>\n",
              "      <td>0.797386</td>\n",
              "      <td>0.809312</td>\n",
              "      <td>0.303466</td>\n",
              "      <td>0.781567</td>\n",
              "      <td>1.566874e-04</td>\n",
              "      <td>1.281880e-04</td>\n",
              "      <td>0.461558</td>\n",
              "      <td>2.030203e-04</td>\n",
              "      <td>0.000000</td>\n",
              "      <td>0.173613</td>\n",
              "      <td>0.173613</td>\n",
              "      <td>0.173676</td>\n",
              "      <td>0.214711</td>\n",
              "      <td>0.317748</td>\n",
              "      <td>1.563138e-02</td>\n",
              "      <td>0.096083</td>\n",
              "      <td>0.170370</td>\n",
              "      <td>0.022065</td>\n",
              "      <td>0.847984</td>\n",
              "      <td>0.689270</td>\n",
              "      <td>0.689270</td>\n",
              "      <td>0.217580</td>\n",
              "      <td>4.860000e+09</td>\n",
              "      <td>4.409689e-04</td>\n",
              "      <td>0.263759</td>\n",
              "      <td>0.374749</td>\n",
              "      <td>7.555047e-03</td>\n",
              "      <td>4.725903e-03</td>\n",
              "      <td>0.630612</td>\n",
              "      <td>3.007049e-03</td>\n",
              "      <td>0.072891</td>\n",
              "      <td>0.851196</td>\n",
              "      <td>0.005244</td>\n",
              "      <td>0.370168</td>\n",
              "      <td>0.005366</td>\n",
              "      <td>0.096105</td>\n",
              "      <td>0.169376</td>\n",
              "      <td>0.397403</td>\n",
              "      <td>0.076462</td>\n",
              "      <td>7.101336e-04</td>\n",
              "      <td>4.386530e-03</td>\n",
              "      <td>1.728256e-04</td>\n",
              "      <td>2.330013e-04</td>\n",
              "      <td>0.021774</td>\n",
              "      <td>1.043285e-02</td>\n",
              "      <td>0.392438</td>\n",
              "      <td>4.120529e-03</td>\n",
              "      <td>0.774309</td>\n",
              "      <td>0.241973</td>\n",
              "      <td>0.352845</td>\n",
              "      <td>0.033543</td>\n",
              "      <td>5.239776e-03</td>\n",
              "      <td>1.973008e-03</td>\n",
              "      <td>0.053301</td>\n",
              "      <td>0.341023</td>\n",
              "      <td>0.277034</td>\n",
              "      <td>3.163148e-03</td>\n",
              "      <td>0.626981</td>\n",
              "      <td>0.733612</td>\n",
              "      <td>0.328096</td>\n",
              "      <td>0.000000e+00</td>\n",
              "      <td>0.931097</td>\n",
              "      <td>0.002236</td>\n",
              "      <td>0.014567</td>\n",
              "      <td>1.456236e-04</td>\n",
              "      <td>1.417149e-04</td>\n",
              "      <td>0.593934</td>\n",
              "      <td>2.735337e-04</td>\n",
              "      <td>0.671565</td>\n",
              "      <td>8.536037e-02</td>\n",
              "      <td>0.626981</td>\n",
              "      <td>0.328096</td>\n",
              "      <td>0.110933</td>\n",
              "      <td>0.633265</td>\n",
              "      <td>0.457116</td>\n",
              "      <td>0.565987</td>\n",
              "      <td>0.312995</td>\n",
              "      <td>0.018034</td>\n",
              "      <td>0.796750</td>\n",
              "      <td>9.036205e-04</td>\n",
              "      <td>0.623636</td>\n",
              "      <td>0.600443</td>\n",
              "      <td>0.840115</td>\n",
              "      <td>0.276944</td>\n",
              "      <td>0.026791</td>\n",
              "      <td>0.565158</td>\n",
              "      <td>0.024477</td>\n",
              "    </tr>\n",
              "    <tr>\n",
              "      <th>50%</th>\n",
              "      <td>0.000000</td>\n",
              "      <td>0.502706</td>\n",
              "      <td>0.559802</td>\n",
              "      <td>0.552278</td>\n",
              "      <td>0.605997</td>\n",
              "      <td>0.605976</td>\n",
              "      <td>0.999022</td>\n",
              "      <td>0.797464</td>\n",
              "      <td>0.809375</td>\n",
              "      <td>0.303525</td>\n",
              "      <td>0.781635</td>\n",
              "      <td>2.777589e-04</td>\n",
              "      <td>5.090000e+08</td>\n",
              "      <td>0.465080</td>\n",
              "      <td>3.210321e-04</td>\n",
              "      <td>0.073489</td>\n",
              "      <td>0.184400</td>\n",
              "      <td>0.184400</td>\n",
              "      <td>0.184400</td>\n",
              "      <td>0.224544</td>\n",
              "      <td>0.322487</td>\n",
              "      <td>2.737571e-02</td>\n",
              "      <td>0.104226</td>\n",
              "      <td>0.179709</td>\n",
              "      <td>0.022102</td>\n",
              "      <td>0.848044</td>\n",
              "      <td>0.689439</td>\n",
              "      <td>0.689439</td>\n",
              "      <td>0.217598</td>\n",
              "      <td>6.400000e+09</td>\n",
              "      <td>4.619555e-04</td>\n",
              "      <td>0.264050</td>\n",
              "      <td>0.380425</td>\n",
              "      <td>1.058717e-02</td>\n",
              "      <td>7.412472e-03</td>\n",
              "      <td>0.630698</td>\n",
              "      <td>5.546284e-03</td>\n",
              "      <td>0.111407</td>\n",
              "      <td>0.888593</td>\n",
              "      <td>0.005665</td>\n",
              "      <td>0.372624</td>\n",
              "      <td>0.005366</td>\n",
              "      <td>0.104133</td>\n",
              "      <td>0.178456</td>\n",
              "      <td>0.400131</td>\n",
              "      <td>0.118441</td>\n",
              "      <td>9.678107e-04</td>\n",
              "      <td>6.572537e-03</td>\n",
              "      <td>7.646743e-04</td>\n",
              "      <td>5.930942e-04</td>\n",
              "      <td>0.029516</td>\n",
              "      <td>1.861551e-02</td>\n",
              "      <td>0.395898</td>\n",
              "      <td>7.844373e-03</td>\n",
              "      <td>0.810275</td>\n",
              "      <td>0.386451</td>\n",
              "      <td>0.514830</td>\n",
              "      <td>0.074887</td>\n",
              "      <td>7.908898e-03</td>\n",
              "      <td>4.903886e-03</td>\n",
              "      <td>0.082705</td>\n",
              "      <td>0.348597</td>\n",
              "      <td>0.277178</td>\n",
              "      <td>6.497335e-03</td>\n",
              "      <td>0.806881</td>\n",
              "      <td>0.736013</td>\n",
              "      <td>0.329685</td>\n",
              "      <td>1.974619e-03</td>\n",
              "      <td>0.937672</td>\n",
              "      <td>0.002336</td>\n",
              "      <td>0.022674</td>\n",
              "      <td>1.987816e-04</td>\n",
              "      <td>2.247728e-04</td>\n",
              "      <td>0.593963</td>\n",
              "      <td>1.080000e+09</td>\n",
              "      <td>0.671574</td>\n",
              "      <td>1.968810e-01</td>\n",
              "      <td>0.806881</td>\n",
              "      <td>0.329685</td>\n",
              "      <td>0.112340</td>\n",
              "      <td>0.645366</td>\n",
              "      <td>0.459750</td>\n",
              "      <td>0.593266</td>\n",
              "      <td>0.314953</td>\n",
              "      <td>0.027597</td>\n",
              "      <td>0.810619</td>\n",
              "      <td>2.085213e-03</td>\n",
              "      <td>0.623879</td>\n",
              "      <td>0.605998</td>\n",
              "      <td>0.841179</td>\n",
              "      <td>0.278778</td>\n",
              "      <td>0.026808</td>\n",
              "      <td>0.565252</td>\n",
              "      <td>0.033798</td>\n",
              "    </tr>\n",
              "    <tr>\n",
              "      <th>75%</th>\n",
              "      <td>0.000000</td>\n",
              "      <td>0.535563</td>\n",
              "      <td>0.589157</td>\n",
              "      <td>0.584105</td>\n",
              "      <td>0.613914</td>\n",
              "      <td>0.613842</td>\n",
              "      <td>0.999095</td>\n",
              "      <td>0.797579</td>\n",
              "      <td>0.809469</td>\n",
              "      <td>0.303585</td>\n",
              "      <td>0.781735</td>\n",
              "      <td>4.145000e+09</td>\n",
              "      <td>3.450000e+09</td>\n",
              "      <td>0.471004</td>\n",
              "      <td>5.325533e-04</td>\n",
              "      <td>0.205841</td>\n",
              "      <td>0.199570</td>\n",
              "      <td>0.199570</td>\n",
              "      <td>0.199612</td>\n",
              "      <td>0.238820</td>\n",
              "      <td>0.328623</td>\n",
              "      <td>4.635722e-02</td>\n",
              "      <td>0.116155</td>\n",
              "      <td>0.193493</td>\n",
              "      <td>0.022153</td>\n",
              "      <td>0.848123</td>\n",
              "      <td>0.689647</td>\n",
              "      <td>0.689647</td>\n",
              "      <td>0.217622</td>\n",
              "      <td>7.390000e+09</td>\n",
              "      <td>4.993621e-04</td>\n",
              "      <td>0.264388</td>\n",
              "      <td>0.386731</td>\n",
              "      <td>1.626953e-02</td>\n",
              "      <td>1.224911e-02</td>\n",
              "      <td>0.631125</td>\n",
              "      <td>9.273293e-03</td>\n",
              "      <td>0.148804</td>\n",
              "      <td>0.927109</td>\n",
              "      <td>0.006847</td>\n",
              "      <td>0.376271</td>\n",
              "      <td>0.005764</td>\n",
              "      <td>0.115927</td>\n",
              "      <td>0.191607</td>\n",
              "      <td>0.404551</td>\n",
              "      <td>0.176912</td>\n",
              "      <td>1.454759e-03</td>\n",
              "      <td>8.972876e-03</td>\n",
              "      <td>4.620000e+09</td>\n",
              "      <td>3.652371e-03</td>\n",
              "      <td>0.042903</td>\n",
              "      <td>3.585477e-02</td>\n",
              "      <td>0.401851</td>\n",
              "      <td>1.502031e-02</td>\n",
              "      <td>0.850383</td>\n",
              "      <td>0.540594</td>\n",
              "      <td>0.689051</td>\n",
              "      <td>0.161073</td>\n",
              "      <td>1.295091e-02</td>\n",
              "      <td>1.280557e-02</td>\n",
              "      <td>0.119523</td>\n",
              "      <td>0.360915</td>\n",
              "      <td>0.277429</td>\n",
              "      <td>1.114677e-02</td>\n",
              "      <td>0.942027</td>\n",
              "      <td>0.738560</td>\n",
              "      <td>0.332322</td>\n",
              "      <td>9.005946e-03</td>\n",
              "      <td>0.944811</td>\n",
              "      <td>0.002492</td>\n",
              "      <td>0.035930</td>\n",
              "      <td>4.525945e-04</td>\n",
              "      <td>4.900000e+09</td>\n",
              "      <td>0.594002</td>\n",
              "      <td>4.510000e+09</td>\n",
              "      <td>0.671587</td>\n",
              "      <td>3.722000e-01</td>\n",
              "      <td>0.942027</td>\n",
              "      <td>0.332322</td>\n",
              "      <td>0.117106</td>\n",
              "      <td>0.663062</td>\n",
              "      <td>0.464236</td>\n",
              "      <td>0.624769</td>\n",
              "      <td>0.317707</td>\n",
              "      <td>0.038375</td>\n",
              "      <td>0.826455</td>\n",
              "      <td>5.269777e-03</td>\n",
              "      <td>0.624168</td>\n",
              "      <td>0.613913</td>\n",
              "      <td>0.842357</td>\n",
              "      <td>0.281449</td>\n",
              "      <td>0.026913</td>\n",
              "      <td>0.565725</td>\n",
              "      <td>0.052838</td>\n",
              "    </tr>\n",
              "    <tr>\n",
              "      <th>max</th>\n",
              "      <td>1.000000</td>\n",
              "      <td>1.000000</td>\n",
              "      <td>1.000000</td>\n",
              "      <td>1.000000</td>\n",
              "      <td>1.000000</td>\n",
              "      <td>1.000000</td>\n",
              "      <td>1.000000</td>\n",
              "      <td>1.000000</td>\n",
              "      <td>1.000000</td>\n",
              "      <td>1.000000</td>\n",
              "      <td>1.000000</td>\n",
              "      <td>9.990000e+09</td>\n",
              "      <td>9.980000e+09</td>\n",
              "      <td>1.000000</td>\n",
              "      <td>9.900000e+08</td>\n",
              "      <td>1.000000</td>\n",
              "      <td>1.000000</td>\n",
              "      <td>1.000000</td>\n",
              "      <td>1.000000</td>\n",
              "      <td>1.000000</td>\n",
              "      <td>1.000000</td>\n",
              "      <td>3.020000e+09</td>\n",
              "      <td>1.000000</td>\n",
              "      <td>1.000000</td>\n",
              "      <td>1.000000</td>\n",
              "      <td>1.000000</td>\n",
              "      <td>1.000000</td>\n",
              "      <td>1.000000</td>\n",
              "      <td>1.000000</td>\n",
              "      <td>9.990000e+09</td>\n",
              "      <td>9.330000e+09</td>\n",
              "      <td>1.000000</td>\n",
              "      <td>1.000000</td>\n",
              "      <td>2.750000e+09</td>\n",
              "      <td>9.230000e+09</td>\n",
              "      <td>1.000000</td>\n",
              "      <td>9.940000e+09</td>\n",
              "      <td>1.000000</td>\n",
              "      <td>1.000000</td>\n",
              "      <td>1.000000</td>\n",
              "      <td>1.000000</td>\n",
              "      <td>1.000000</td>\n",
              "      <td>1.000000</td>\n",
              "      <td>1.000000</td>\n",
              "      <td>1.000000</td>\n",
              "      <td>1.000000</td>\n",
              "      <td>9.740000e+09</td>\n",
              "      <td>9.730000e+09</td>\n",
              "      <td>9.990000e+09</td>\n",
              "      <td>9.990000e+09</td>\n",
              "      <td>1.000000</td>\n",
              "      <td>8.810000e+09</td>\n",
              "      <td>1.000000</td>\n",
              "      <td>9.570000e+09</td>\n",
              "      <td>1.000000</td>\n",
              "      <td>1.000000</td>\n",
              "      <td>1.000000</td>\n",
              "      <td>1.000000</td>\n",
              "      <td>8.820000e+09</td>\n",
              "      <td>9.650000e+09</td>\n",
              "      <td>1.000000</td>\n",
              "      <td>1.000000</td>\n",
              "      <td>1.000000</td>\n",
              "      <td>9.910000e+09</td>\n",
              "      <td>1.000000</td>\n",
              "      <td>1.000000</td>\n",
              "      <td>1.000000</td>\n",
              "      <td>9.540000e+09</td>\n",
              "      <td>1.000000</td>\n",
              "      <td>1.000000</td>\n",
              "      <td>1.000000</td>\n",
              "      <td>1.000000e+10</td>\n",
              "      <td>1.000000e+10</td>\n",
              "      <td>1.000000</td>\n",
              "      <td>1.000000e+10</td>\n",
              "      <td>1.000000</td>\n",
              "      <td>8.320000e+09</td>\n",
              "      <td>1.000000</td>\n",
              "      <td>1.000000</td>\n",
              "      <td>1.000000</td>\n",
              "      <td>1.000000</td>\n",
              "      <td>1.000000</td>\n",
              "      <td>1.000000</td>\n",
              "      <td>1.000000</td>\n",
              "      <td>1.000000</td>\n",
              "      <td>1.000000</td>\n",
              "      <td>9.820000e+09</td>\n",
              "      <td>1.000000</td>\n",
              "      <td>1.000000</td>\n",
              "      <td>1.000000</td>\n",
              "      <td>1.000000</td>\n",
              "      <td>1.000000</td>\n",
              "      <td>1.000000</td>\n",
              "      <td>1.000000</td>\n",
              "    </tr>\n",
              "  </tbody>\n",
              "</table>\n",
              "</div>"
            ],
            "text/plain": [
              "         Bankrupt?   ROA(C) before interest and depreciation before interest  \\\n",
              "count  6819.000000                                        6819.000000          \n",
              "mean      0.032263                                           0.505180          \n",
              "std       0.176710                                           0.060686          \n",
              "min       0.000000                                           0.000000          \n",
              "25%       0.000000                                           0.476527          \n",
              "50%       0.000000                                           0.502706          \n",
              "75%       0.000000                                           0.535563          \n",
              "max       1.000000                                           1.000000          \n",
              "\n",
              "        ROA(A) before interest and % after tax  \\\n",
              "count                              6819.000000   \n",
              "mean                                  0.558625   \n",
              "std                                   0.065620   \n",
              "min                                   0.000000   \n",
              "25%                                   0.535543   \n",
              "50%                                   0.559802   \n",
              "75%                                   0.589157   \n",
              "max                                   1.000000   \n",
              "\n",
              "        ROA(B) before interest and depreciation after tax  \\\n",
              "count                                        6819.000000    \n",
              "mean                                            0.553589    \n",
              "std                                             0.061595    \n",
              "min                                             0.000000    \n",
              "25%                                             0.527277    \n",
              "50%                                             0.552278    \n",
              "75%                                             0.584105    \n",
              "max                                             1.000000    \n",
              "\n",
              "        Operating Gross Margin   Realized Sales Gross Margin  \\\n",
              "count              6819.000000                   6819.000000   \n",
              "mean                  0.607948                      0.607929   \n",
              "std                   0.016934                      0.016916   \n",
              "min                   0.000000                      0.000000   \n",
              "25%                   0.600445                      0.600434   \n",
              "50%                   0.605997                      0.605976   \n",
              "75%                   0.613914                      0.613842   \n",
              "max                   1.000000                      1.000000   \n",
              "\n",
              "        Operating Profit Rate   Pre-tax net Interest Rate  \\\n",
              "count             6819.000000                 6819.000000   \n",
              "mean                 0.998755                    0.797190   \n",
              "std                  0.013010                    0.012869   \n",
              "min                  0.000000                    0.000000   \n",
              "25%                  0.998969                    0.797386   \n",
              "50%                  0.999022                    0.797464   \n",
              "75%                  0.999095                    0.797579   \n",
              "max                  1.000000                    1.000000   \n",
              "\n",
              "        After-tax net Interest Rate  \\\n",
              "count                   6819.000000   \n",
              "mean                       0.809084   \n",
              "std                        0.013601   \n",
              "min                        0.000000   \n",
              "25%                        0.809312   \n",
              "50%                        0.809375   \n",
              "75%                        0.809469   \n",
              "max                        1.000000   \n",
              "\n",
              "        Non-industry income and expenditure/revenue  \\\n",
              "count                                   6819.000000   \n",
              "mean                                       0.303623   \n",
              "std                                        0.011163   \n",
              "min                                        0.000000   \n",
              "25%                                        0.303466   \n",
              "50%                                        0.303525   \n",
              "75%                                        0.303585   \n",
              "max                                        1.000000   \n",
              "\n",
              "        Continuous interest rate (after tax)   Operating Expense Rate  \\\n",
              "count                            6819.000000             6.819000e+03   \n",
              "mean                                0.781381             1.995347e+09   \n",
              "std                                 0.012679             3.237684e+09   \n",
              "min                                 0.000000             0.000000e+00   \n",
              "25%                                 0.781567             1.566874e-04   \n",
              "50%                                 0.781635             2.777589e-04   \n",
              "75%                                 0.781735             4.145000e+09   \n",
              "max                                 1.000000             9.990000e+09   \n",
              "\n",
              "        Research and development expense rate   Cash flow rate  \\\n",
              "count                            6.819000e+03      6819.000000   \n",
              "mean                             1.950427e+09         0.467431   \n",
              "std                              2.598292e+09         0.017036   \n",
              "min                              0.000000e+00         0.000000   \n",
              "25%                              1.281880e-04         0.461558   \n",
              "50%                              5.090000e+08         0.465080   \n",
              "75%                              3.450000e+09         0.471004   \n",
              "max                              9.980000e+09         1.000000   \n",
              "\n",
              "        Interest-bearing debt interest rate   Tax rate (A)  \\\n",
              "count                          6.819000e+03    6819.000000   \n",
              "mean                           1.644801e+07       0.115001   \n",
              "std                            1.082750e+08       0.138667   \n",
              "min                            0.000000e+00       0.000000   \n",
              "25%                            2.030203e-04       0.000000   \n",
              "50%                            3.210321e-04       0.073489   \n",
              "75%                            5.325533e-04       0.205841   \n",
              "max                            9.900000e+08       1.000000   \n",
              "\n",
              "        Net Value Per Share (B)   Net Value Per Share (A)  \\\n",
              "count               6819.000000               6819.000000   \n",
              "mean                   0.190661                  0.190633   \n",
              "std                    0.033390                  0.033474   \n",
              "min                    0.000000                  0.000000   \n",
              "25%                    0.173613                  0.173613   \n",
              "50%                    0.184400                  0.184400   \n",
              "75%                    0.199570                  0.199570   \n",
              "max                    1.000000                  1.000000   \n",
              "\n",
              "        Net Value Per Share (C)   Persistent EPS in the Last Four Seasons  \\\n",
              "count               6819.000000                               6819.000000   \n",
              "mean                   0.190672                                  0.228813   \n",
              "std                    0.033480                                  0.033263   \n",
              "min                    0.000000                                  0.000000   \n",
              "25%                    0.173676                                  0.214711   \n",
              "50%                    0.184400                                  0.224544   \n",
              "75%                    0.199612                                  0.238820   \n",
              "max                    1.000000                                  1.000000   \n",
              "\n",
              "        Cash Flow Per Share   Revenue Per Share (Yuan ¥)  \\\n",
              "count           6819.000000                 6.819000e+03   \n",
              "mean               0.323482                 1.328641e+06   \n",
              "std                0.017611                 5.170709e+07   \n",
              "min                0.000000                 0.000000e+00   \n",
              "25%                0.317748                 1.563138e-02   \n",
              "50%                0.322487                 2.737571e-02   \n",
              "75%                0.328623                 4.635722e-02   \n",
              "max                1.000000                 3.020000e+09   \n",
              "\n",
              "        Operating Profit Per Share (Yuan ¥)  \\\n",
              "count                           6819.000000   \n",
              "mean                               0.109091   \n",
              "std                                0.027942   \n",
              "min                                0.000000   \n",
              "25%                                0.096083   \n",
              "50%                                0.104226   \n",
              "75%                                0.116155   \n",
              "max                                1.000000   \n",
              "\n",
              "        Per Share Net profit before tax (Yuan ¥)  \\\n",
              "count                                6819.000000   \n",
              "mean                                    0.184361   \n",
              "std                                     0.033180   \n",
              "min                                     0.000000   \n",
              "25%                                     0.170370   \n",
              "50%                                     0.179709   \n",
              "75%                                     0.193493   \n",
              "max                                     1.000000   \n",
              "\n",
              "        Realized Sales Gross Profit Growth Rate  \\\n",
              "count                               6819.000000   \n",
              "mean                                   0.022408   \n",
              "std                                    0.012079   \n",
              "min                                    0.000000   \n",
              "25%                                    0.022065   \n",
              "50%                                    0.022102   \n",
              "75%                                    0.022153   \n",
              "max                                    1.000000   \n",
              "\n",
              "        Operating Profit Growth Rate   After-tax Net Profit Growth Rate  \\\n",
              "count                    6819.000000                        6819.000000   \n",
              "mean                        0.847980                           0.689146   \n",
              "std                         0.010752                           0.013853   \n",
              "min                         0.000000                           0.000000   \n",
              "25%                         0.847984                           0.689270   \n",
              "50%                         0.848044                           0.689439   \n",
              "75%                         0.848123                           0.689647   \n",
              "max                         1.000000                           1.000000   \n",
              "\n",
              "        Regular Net Profit Growth Rate   Continuous Net Profit Growth Rate  \\\n",
              "count                      6819.000000                         6819.000000   \n",
              "mean                          0.689150                            0.217639   \n",
              "std                           0.013910                            0.010063   \n",
              "min                           0.000000                            0.000000   \n",
              "25%                           0.689270                            0.217580   \n",
              "50%                           0.689439                            0.217598   \n",
              "75%                           0.689647                            0.217622   \n",
              "max                           1.000000                            1.000000   \n",
              "\n",
              "        Total Asset Growth Rate   Net Value Growth Rate  \\\n",
              "count              6.819000e+03            6.819000e+03   \n",
              "mean               5.508097e+09            1.566212e+06   \n",
              "std                2.897718e+09            1.141594e+08   \n",
              "min                0.000000e+00            0.000000e+00   \n",
              "25%                4.860000e+09            4.409689e-04   \n",
              "50%                6.400000e+09            4.619555e-04   \n",
              "75%                7.390000e+09            4.993621e-04   \n",
              "max                9.990000e+09            9.330000e+09   \n",
              "\n",
              "        Total Asset Return Growth Rate Ratio   Cash Reinvestment %  \\\n",
              "count                            6819.000000           6819.000000   \n",
              "mean                                0.264248              0.379677   \n",
              "std                                 0.009634              0.020737   \n",
              "min                                 0.000000              0.000000   \n",
              "25%                                 0.263759              0.374749   \n",
              "50%                                 0.264050              0.380425   \n",
              "75%                                 0.264388              0.386731   \n",
              "max                                 1.000000              1.000000   \n",
              "\n",
              "        Current Ratio   Quick Ratio   Interest Expense Ratio  \\\n",
              "count    6.819000e+03  6.819000e+03              6819.000000   \n",
              "mean     4.032850e+05  8.376595e+06                 0.630991   \n",
              "std      3.330216e+07  2.446847e+08                 0.011238   \n",
              "min      0.000000e+00  0.000000e+00                 0.000000   \n",
              "25%      7.555047e-03  4.725903e-03                 0.630612   \n",
              "50%      1.058717e-02  7.412472e-03                 0.630698   \n",
              "75%      1.626953e-02  1.224911e-02                 0.631125   \n",
              "max      2.750000e+09  9.230000e+09                 1.000000   \n",
              "\n",
              "        Total debt/Total net worth   Debt ratio %   Net worth/Assets  \\\n",
              "count                 6.819000e+03    6819.000000        6819.000000   \n",
              "mean                  4.416337e+06       0.113177           0.886823   \n",
              "std                   1.684069e+08       0.053920           0.053920   \n",
              "min                   0.000000e+00       0.000000           0.000000   \n",
              "25%                   3.007049e-03       0.072891           0.851196   \n",
              "50%                   5.546284e-03       0.111407           0.888593   \n",
              "75%                   9.273293e-03       0.148804           0.927109   \n",
              "max                   9.940000e+09       1.000000           1.000000   \n",
              "\n",
              "        Long-term fund suitability ratio (A)   Borrowing dependency  \\\n",
              "count                            6819.000000            6819.000000   \n",
              "mean                                0.008783               0.374654   \n",
              "std                                 0.028153               0.016286   \n",
              "min                                 0.000000               0.000000   \n",
              "25%                                 0.005244               0.370168   \n",
              "50%                                 0.005665               0.372624   \n",
              "75%                                 0.006847               0.376271   \n",
              "max                                 1.000000               1.000000   \n",
              "\n",
              "        Contingent liabilities/Net worth   Operating profit/Paid-in capital  \\\n",
              "count                        6819.000000                        6819.000000   \n",
              "mean                            0.005968                           0.108977   \n",
              "std                             0.012188                           0.027782   \n",
              "min                             0.000000                           0.000000   \n",
              "25%                             0.005366                           0.096105   \n",
              "50%                             0.005366                           0.104133   \n",
              "75%                             0.005764                           0.115927   \n",
              "max                             1.000000                           1.000000   \n",
              "\n",
              "        Net profit before tax/Paid-in capital  \\\n",
              "count                             6819.000000   \n",
              "mean                                 0.182715   \n",
              "std                                  0.030785   \n",
              "min                                  0.000000   \n",
              "25%                                  0.169376   \n",
              "50%                                  0.178456   \n",
              "75%                                  0.191607   \n",
              "max                                  1.000000   \n",
              "\n",
              "        Inventory and accounts receivable/Net value   Total Asset Turnover  \\\n",
              "count                                   6819.000000            6819.000000   \n",
              "mean                                       0.402459               0.141606   \n",
              "std                                        0.013324               0.101145   \n",
              "min                                        0.000000               0.000000   \n",
              "25%                                        0.397403               0.076462   \n",
              "50%                                        0.400131               0.118441   \n",
              "75%                                        0.404551               0.176912   \n",
              "max                                        1.000000               1.000000   \n",
              "\n",
              "        Accounts Receivable Turnover   Average Collection Days  \\\n",
              "count                   6.819000e+03              6.819000e+03   \n",
              "mean                    1.278971e+07              9.826221e+06   \n",
              "std                     2.782598e+08              2.563589e+08   \n",
              "min                     0.000000e+00              0.000000e+00   \n",
              "25%                     7.101336e-04              4.386530e-03   \n",
              "50%                     9.678107e-04              6.572537e-03   \n",
              "75%                     1.454759e-03              8.972876e-03   \n",
              "max                     9.740000e+09              9.730000e+09   \n",
              "\n",
              "        Inventory Turnover Rate (times)   Fixed Assets Turnover Frequency  \\\n",
              "count                      6.819000e+03                      6.819000e+03   \n",
              "mean                       2.149106e+09                      1.008596e+09   \n",
              "std                        3.247967e+09                      2.477557e+09   \n",
              "min                        0.000000e+00                      0.000000e+00   \n",
              "25%                        1.728256e-04                      2.330013e-04   \n",
              "50%                        7.646743e-04                      5.930942e-04   \n",
              "75%                        4.620000e+09                      3.652371e-03   \n",
              "max                        9.990000e+09                      9.990000e+09   \n",
              "\n",
              "        Net Worth Turnover Rate (times)   Revenue per person  \\\n",
              "count                       6819.000000         6.819000e+03   \n",
              "mean                           0.038595         2.325854e+06   \n",
              "std                            0.036680         1.366327e+08   \n",
              "min                            0.000000         0.000000e+00   \n",
              "25%                            0.021774         1.043285e-02   \n",
              "50%                            0.029516         1.861551e-02   \n",
              "75%                            0.042903         3.585477e-02   \n",
              "max                            1.000000         8.810000e+09   \n",
              "\n",
              "        Operating profit per person   Allocation rate per person  \\\n",
              "count                   6819.000000                 6.819000e+03   \n",
              "mean                       0.400671                 1.125579e+07   \n",
              "std                        0.032720                 2.945063e+08   \n",
              "min                        0.000000                 0.000000e+00   \n",
              "25%                        0.392438                 4.120529e-03   \n",
              "50%                        0.395898                 7.844373e-03   \n",
              "75%                        0.401851                 1.502031e-02   \n",
              "max                        1.000000                 9.570000e+09   \n",
              "\n",
              "        Working Capital to Total Assets   Quick Assets/Total Assets  \\\n",
              "count                       6819.000000                 6819.000000   \n",
              "mean                           0.814125                    0.400132   \n",
              "std                            0.059054                    0.201998   \n",
              "min                            0.000000                    0.000000   \n",
              "25%                            0.774309                    0.241973   \n",
              "50%                            0.810275                    0.386451   \n",
              "75%                            0.850383                    0.540594   \n",
              "max                            1.000000                    1.000000   \n",
              "\n",
              "        Current Assets/Total Assets   Cash/Total Assets  \\\n",
              "count                   6819.000000         6819.000000   \n",
              "mean                       0.522273            0.124095   \n",
              "std                        0.218112            0.139251   \n",
              "min                        0.000000            0.000000   \n",
              "25%                        0.352845            0.033543   \n",
              "50%                        0.514830            0.074887   \n",
              "75%                        0.689051            0.161073   \n",
              "max                        1.000000            1.000000   \n",
              "\n",
              "        Quick Assets/Current Liability   Cash/Current Liability  \\\n",
              "count                     6.819000e+03             6.819000e+03   \n",
              "mean                      3.592902e+06             3.715999e+07   \n",
              "std                       1.716209e+08             5.103509e+08   \n",
              "min                       0.000000e+00             0.000000e+00   \n",
              "25%                       5.239776e-03             1.973008e-03   \n",
              "50%                       7.908898e-03             4.903886e-03   \n",
              "75%                       1.295091e-02             1.280557e-02   \n",
              "max                       8.820000e+09             9.650000e+09   \n",
              "\n",
              "        Current Liability to Assets   Operating Funds to Liability  \\\n",
              "count                   6819.000000                    6819.000000   \n",
              "mean                       0.090673                       0.353828   \n",
              "std                        0.050290                       0.035147   \n",
              "min                        0.000000                       0.000000   \n",
              "25%                        0.053301                       0.341023   \n",
              "50%                        0.082705                       0.348597   \n",
              "75%                        0.119523                       0.360915   \n",
              "max                        1.000000                       1.000000   \n",
              "\n",
              "        Inventory/Working Capital   Inventory/Current Liability  \\\n",
              "count                 6819.000000                  6.819000e+03   \n",
              "mean                     0.277395                  5.580680e+07   \n",
              "std                      0.010469                  5.820516e+08   \n",
              "min                      0.000000                  0.000000e+00   \n",
              "25%                      0.277034                  3.163148e-03   \n",
              "50%                      0.277178                  6.497335e-03   \n",
              "75%                      0.277429                  1.114677e-02   \n",
              "max                      1.000000                  9.910000e+09   \n",
              "\n",
              "        Current Liabilities/Liability   Working Capital/Equity  \\\n",
              "count                     6819.000000              6819.000000   \n",
              "mean                         0.761599                 0.735817   \n",
              "std                          0.206677                 0.011678   \n",
              "min                          0.000000                 0.000000   \n",
              "25%                          0.626981                 0.733612   \n",
              "50%                          0.806881                 0.736013   \n",
              "75%                          0.942027                 0.738560   \n",
              "max                          1.000000                 1.000000   \n",
              "\n",
              "        Current Liabilities/Equity   Long-term Liability to Current Assets  \\\n",
              "count                  6819.000000                            6.819000e+03   \n",
              "mean                      0.331410                            5.416004e+07   \n",
              "std                       0.013488                            5.702706e+08   \n",
              "min                       0.000000                            0.000000e+00   \n",
              "25%                       0.328096                            0.000000e+00   \n",
              "50%                       0.329685                            1.974619e-03   \n",
              "75%                       0.332322                            9.005946e-03   \n",
              "max                       1.000000                            9.540000e+09   \n",
              "\n",
              "        Retained Earnings to Total Assets   Total income/Total expense  \\\n",
              "count                         6819.000000                  6819.000000   \n",
              "mean                             0.934733                     0.002549   \n",
              "std                              0.025564                     0.012093   \n",
              "min                              0.000000                     0.000000   \n",
              "25%                              0.931097                     0.002236   \n",
              "50%                              0.937672                     0.002336   \n",
              "75%                              0.944811                     0.002492   \n",
              "max                              1.000000                     1.000000   \n",
              "\n",
              "        Total expense/Assets   Current Asset Turnover Rate  \\\n",
              "count            6819.000000                  6.819000e+03   \n",
              "mean                0.029184                  1.195856e+09   \n",
              "std                 0.027149                  2.821161e+09   \n",
              "min                 0.000000                  0.000000e+00   \n",
              "25%                 0.014567                  1.456236e-04   \n",
              "50%                 0.022674                  1.987816e-04   \n",
              "75%                 0.035930                  4.525945e-04   \n",
              "max                 1.000000                  1.000000e+10   \n",
              "\n",
              "        Quick Asset Turnover Rate   Working capitcal Turnover Rate  \\\n",
              "count                6.819000e+03                      6819.000000   \n",
              "mean                 2.163735e+09                         0.594006   \n",
              "std                  3.374944e+09                         0.008959   \n",
              "min                  0.000000e+00                         0.000000   \n",
              "25%                  1.417149e-04                         0.593934   \n",
              "50%                  2.247728e-04                         0.593963   \n",
              "75%                  4.900000e+09                         0.594002   \n",
              "max                  1.000000e+10                         1.000000   \n",
              "\n",
              "        Cash Turnover Rate   Cash Flow to Sales   Fixed Assets to Assets  \\\n",
              "count         6.819000e+03          6819.000000             6.819000e+03   \n",
              "mean          2.471977e+09             0.671531             1.220121e+06   \n",
              "std           2.938623e+09             0.009341             1.007542e+08   \n",
              "min           0.000000e+00             0.000000             0.000000e+00   \n",
              "25%           2.735337e-04             0.671565             8.536037e-02   \n",
              "50%           1.080000e+09             0.671574             1.968810e-01   \n",
              "75%           4.510000e+09             0.671587             3.722000e-01   \n",
              "max           1.000000e+10             1.000000             8.320000e+09   \n",
              "\n",
              "        Current Liability to Liability   Current Liability to Equity  \\\n",
              "count                      6819.000000                   6819.000000   \n",
              "mean                          0.761599                      0.331410   \n",
              "std                           0.206677                      0.013488   \n",
              "min                           0.000000                      0.000000   \n",
              "25%                           0.626981                      0.328096   \n",
              "50%                           0.806881                      0.329685   \n",
              "75%                           0.942027                      0.332322   \n",
              "max                           1.000000                      1.000000   \n",
              "\n",
              "        Equity to Long-term Liability   Cash Flow to Total Assets  \\\n",
              "count                     6819.000000                 6819.000000   \n",
              "mean                         0.115645                    0.649731   \n",
              "std                          0.019529                    0.047372   \n",
              "min                          0.000000                    0.000000   \n",
              "25%                          0.110933                    0.633265   \n",
              "50%                          0.112340                    0.645366   \n",
              "75%                          0.117106                    0.663062   \n",
              "max                          1.000000                    1.000000   \n",
              "\n",
              "        Cash Flow to Liability   CFO to Assets   Cash Flow to Equity  \\\n",
              "count              6819.000000     6819.000000           6819.000000   \n",
              "mean                  0.461849        0.593415              0.315582   \n",
              "std                   0.029943        0.058561              0.012961   \n",
              "min                   0.000000        0.000000              0.000000   \n",
              "25%                   0.457116        0.565987              0.312995   \n",
              "50%                   0.459750        0.593266              0.314953   \n",
              "75%                   0.464236        0.624769              0.317707   \n",
              "max                   1.000000        1.000000              1.000000   \n",
              "\n",
              "        Current Liability to Current Assets   Net Income to Total Assets  \\\n",
              "count                           6819.000000                  6819.000000   \n",
              "mean                               0.031506                     0.807760   \n",
              "std                                0.030845                     0.040332   \n",
              "min                                0.000000                     0.000000   \n",
              "25%                                0.018034                     0.796750   \n",
              "50%                                0.027597                     0.810619   \n",
              "75%                                0.038375                     0.826455   \n",
              "max                                1.000000                     1.000000   \n",
              "\n",
              "        Total assets to GNP price   No-credit Interval  \\\n",
              "count                6.819000e+03          6819.000000   \n",
              "mean                 1.862942e+07             0.623915   \n",
              "std                  3.764501e+08             0.012290   \n",
              "min                  0.000000e+00             0.000000   \n",
              "25%                  9.036205e-04             0.623636   \n",
              "50%                  2.085213e-03             0.623879   \n",
              "75%                  5.269777e-03             0.624168   \n",
              "max                  9.820000e+09             1.000000   \n",
              "\n",
              "        Gross Profit to Sales   Net Income to Stockholder's Equity  \\\n",
              "count             6819.000000                          6819.000000   \n",
              "mean                 0.607946                             0.840402   \n",
              "std                  0.016934                             0.014523   \n",
              "min                  0.000000                             0.000000   \n",
              "25%                  0.600443                             0.840115   \n",
              "50%                  0.605998                             0.841179   \n",
              "75%                  0.613913                             0.842357   \n",
              "max                  1.000000                             1.000000   \n",
              "\n",
              "        Liability to Equity   Degree of Financial Leverage (DFL)  \\\n",
              "count           6819.000000                          6819.000000   \n",
              "mean               0.280365                             0.027541   \n",
              "std                0.014463                             0.015668   \n",
              "min                0.000000                             0.000000   \n",
              "25%                0.276944                             0.026791   \n",
              "50%                0.278778                             0.026808   \n",
              "75%                0.281449                             0.026913   \n",
              "max                1.000000                             1.000000   \n",
              "\n",
              "        Interest Coverage Ratio (Interest expense to EBIT)  \\\n",
              "count                                        6819.000000     \n",
              "mean                                            0.565358     \n",
              "std                                             0.013214     \n",
              "min                                             0.000000     \n",
              "25%                                             0.565158     \n",
              "50%                                             0.565252     \n",
              "75%                                             0.565725     \n",
              "max                                             1.000000     \n",
              "\n",
              "        Equity to Liability  \n",
              "count           6819.000000  \n",
              "mean               0.047578  \n",
              "std                0.050014  \n",
              "min                0.000000  \n",
              "25%                0.024477  \n",
              "50%                0.033798  \n",
              "75%                0.052838  \n",
              "max                1.000000  "
            ]
          },
          "metadata": {},
          "execution_count": 1483
        }
      ]
    },
    {
      "cell_type": "markdown",
      "metadata": {
        "id": "5tLQXz4Lxw41"
      },
      "source": [
        "# **Feature Selection**"
      ]
    },
    {
      "cell_type": "code",
      "metadata": {
        "id": "h-sWP9S0FFpK"
      },
      "source": [
        "y_1=df_1['Bankrupt?']"
      ],
      "execution_count": null,
      "outputs": []
    },
    {
      "cell_type": "code",
      "metadata": {
        "id": "zRDc_wuywvVh"
      },
      "source": [
        "from sklearn.feature_selection import SelectKBest\n",
        "from sklearn.feature_selection import chi2"
      ],
      "execution_count": null,
      "outputs": []
    },
    {
      "cell_type": "code",
      "metadata": {
        "id": "3l0sqDJfyCzP"
      },
      "source": [
        "X_1=df_1.drop(columns='Bankrupt?')"
      ],
      "execution_count": null,
      "outputs": []
    },
    {
      "cell_type": "code",
      "metadata": {
        "colab": {
          "base_uri": "https://localhost:8080/"
        },
        "id": "zhxwpwXrwvSo",
        "outputId": "414bc206-5f74-4e78-e90b-199537c3998b"
      },
      "source": [
        "SelectKBest(chi2).fit(X_1, y_1)"
      ],
      "execution_count": null,
      "outputs": [
        {
          "output_type": "execute_result",
          "data": {
            "text/plain": [
              "SelectKBest(k=10, score_func=<function chi2 at 0x7f4bf98e7d40>)"
            ]
          },
          "metadata": {},
          "execution_count": 1457
        }
      ]
    },
    {
      "cell_type": "code",
      "metadata": {
        "id": "ULXDodIQwvMi"
      },
      "source": [
        "chi_score=pd.DataFrame(zip(X_1.columns,X_new.scores_),columns=['Name','Chi-Score'])\n",
        "chi_score=chi_score.sort_values('Chi-Score', ascending= False).reset_index(drop=True)\n",
        "#chi_score\n"
      ],
      "execution_count": null,
      "outputs": []
    },
    {
      "cell_type": "code",
      "metadata": {
        "id": "tAUubQ2XwvJl"
      },
      "source": [
        "selected_columns=[i for i in chi_score['Name'][:27]]"
      ],
      "execution_count": null,
      "outputs": []
    },
    {
      "cell_type": "code",
      "metadata": {
        "id": "rT44hUcswvHL"
      },
      "source": [
        "X_1=X_1[selected_columns]"
      ],
      "execution_count": null,
      "outputs": []
    },
    {
      "cell_type": "code",
      "metadata": {
        "id": "n4SRt7RHwvBN"
      },
      "source": [
        "from pyod.models.abod import ABOD"
      ],
      "execution_count": null,
      "outputs": []
    },
    {
      "cell_type": "markdown",
      "metadata": {
        "id": "AC2TbEH751BN"
      },
      "source": [
        "# **Skewness**"
      ]
    },
    {
      "cell_type": "code",
      "metadata": {
        "id": "EJJzKwFa6hKw"
      },
      "source": [
        "X_1.skew()"
      ],
      "execution_count": null,
      "outputs": []
    },
    {
      "cell_type": "markdown",
      "metadata": {
        "id": "n47MGuqt55dl"
      },
      "source": [
        "## **The features are largely skewed and we need to transfrom them.**"
      ]
    },
    {
      "cell_type": "code",
      "metadata": {
        "id": "IF5nINLV63UQ"
      },
      "source": [
        "from sklearn.preprocessing import PowerTransformer"
      ],
      "execution_count": null,
      "outputs": []
    },
    {
      "cell_type": "code",
      "metadata": {
        "colab": {
          "base_uri": "https://localhost:8080/"
        },
        "id": "h3L4cUYOvsSf",
        "outputId": "f0221e61-bf9a-4c4d-82ca-7d387daf996d"
      },
      "source": [
        "skewness=PowerTransformer()\n",
        "X_3=pd.DataFrame(skewness.fit_transform(X_1), columns=X_1.columns)"
      ],
      "execution_count": null,
      "outputs": [
        {
          "output_type": "stream",
          "name": "stderr",
          "text": [
            "/usr/local/lib/python3.7/dist-packages/numpy/core/_methods.py:205: RuntimeWarning: overflow encountered in multiply\n",
            "  x = um.multiply(x, x, out=x)\n",
            "/usr/local/lib/python3.7/dist-packages/numpy/core/_methods.py:216: RuntimeWarning: overflow encountered in reduce\n",
            "  ret = umr_sum(x, axis, dtype, out, keepdims)\n"
          ]
        }
      ]
    },
    {
      "cell_type": "code",
      "metadata": {
        "id": "5KTA1c6-v6pO"
      },
      "source": [
        "#X_3.skew().sort_values()"
      ],
      "execution_count": null,
      "outputs": []
    },
    {
      "cell_type": "markdown",
      "metadata": {
        "id": "PfIAmznOV3sM"
      },
      "source": [
        "# **Principal Component Analysis**"
      ]
    },
    {
      "cell_type": "code",
      "metadata": {
        "colab": {
          "base_uri": "https://localhost:8080/"
        },
        "id": "XE2DX54BVr3V",
        "outputId": "a4204d5f-c4b0-4e01-cfcd-54725f630732"
      },
      "source": [
        "#importing and fitting the data to the PCA\n",
        "from sklearn.decomposition import PCA\n",
        "pca = PCA()\n",
        "pca.fit(X_3)"
      ],
      "execution_count": null,
      "outputs": [
        {
          "output_type": "execute_result",
          "data": {
            "text/plain": [
              "PCA(copy=True, iterated_power='auto', n_components=None, random_state=None,\n",
              "    svd_solver='auto', tol=0.0, whiten=False)"
            ]
          },
          "metadata": {},
          "execution_count": 1486
        }
      ]
    },
    {
      "cell_type": "code",
      "metadata": {
        "id": "QXk90J9TVruj"
      },
      "source": [
        "#checking the explained variance by the principal component\n",
        "pca.explained_variance_ratio_"
      ],
      "execution_count": null,
      "outputs": []
    },
    {
      "cell_type": "code",
      "metadata": {
        "colab": {
          "base_uri": "https://localhost:8080/"
        },
        "id": "2l0vseenV761",
        "outputId": "50b8275f-4bf6-4c9c-a386-41c87eec92fa"
      },
      "source": [
        "pca.explained_variance_ratio_.sum()"
      ],
      "execution_count": null,
      "outputs": [
        {
          "output_type": "execute_result",
          "data": {
            "text/plain": [
              "1.0"
            ]
          },
          "metadata": {},
          "execution_count": 1489
        }
      ]
    },
    {
      "cell_type": "code",
      "metadata": {
        "id": "T5MoRtDIV723"
      },
      "source": [
        "# transforming the principal components to the original values\n",
        "X_3=pca.transform(X_3)[40:]"
      ],
      "execution_count": null,
      "outputs": []
    },
    {
      "cell_type": "code",
      "metadata": {
        "id": "p4ro1JR6eSoJ"
      },
      "source": [
        ""
      ],
      "execution_count": null,
      "outputs": []
    },
    {
      "cell_type": "code",
      "metadata": {
        "colab": {
          "base_uri": "https://localhost:8080/"
        },
        "id": "Jl_7VfA-eSk5",
        "outputId": "ee15e4c2-828e-402c-9f5e-17b0141d7ca4"
      },
      "source": [
        "s=StandardScaler()\n",
        "X_4=s.fit_transform(X_3)\n",
        "clf = ABOD(n_neighbors=31)\n",
        "clf.fit(X_4)\n",
        "trial=pd.DataFrame(zip(df_1['Bankrupt?'],clf.labels_,clf.decision_scores_), columns=['bankrupt','prediction','scores'])\n",
        "print(len(trial[(trial['bankrupt']==1) & (trial['prediction']==1)]))\n",
        "print(len(trial[(trial['bankrupt']==0) & (trial['prediction']==0)]))\n",
        "print(len(trial[(trial['bankrupt']==0) & (trial['prediction']==1)]))\n",
        "print(len(trial[(trial['bankrupt']==1) & (trial['prediction']==0)]))"
      ],
      "execution_count": null,
      "outputs": [
        {
          "output_type": "stream",
          "name": "stdout",
          "text": [
            "26\n",
            "5907\n",
            "652\n",
            "194\n"
          ]
        }
      ]
    },
    {
      "cell_type": "code",
      "metadata": {
        "colab": {
          "base_uri": "https://localhost:8080/"
        },
        "id": "k1REiGWueSiE",
        "outputId": "4b50d746-9cc5-4dde-cfef-55faed8cee3d"
      },
      "source": [
        "confusion_matrix(trial['bankrupt'],trial['prediction'])"
      ],
      "execution_count": null,
      "outputs": [
        {
          "output_type": "execute_result",
          "data": {
            "text/plain": [
              "array([[5907,  652],\n",
              "       [ 194,   26]])"
            ]
          },
          "metadata": {},
          "execution_count": 1491
        }
      ]
    },
    {
      "cell_type": "code",
      "metadata": {
        "id": "HwwaTuUjkZ59"
      },
      "source": [
        "from pyod.models.ocsvm import OCSVM"
      ],
      "execution_count": null,
      "outputs": []
    },
    {
      "cell_type": "code",
      "metadata": {
        "colab": {
          "base_uri": "https://localhost:8080/"
        },
        "id": "S2ahG7x0kZ2o",
        "outputId": "29208eec-6d94-4deb-fa72-f0597e0d907b"
      },
      "source": [
        "s=StandardScaler()\n",
        "X_4=s.fit_transform(X_3)\n",
        "clf = OCSVM(kernel='poly')\n",
        "clf.fit(X_4)\n",
        "trial=pd.DataFrame(zip(df_1['Bankrupt?'],clf.labels_,clf.decision_scores_), columns=['bankrupt','prediction','scores'])\n",
        "print(len(trial[(trial['bankrupt']==1) & (trial['prediction']==1)]))\n",
        "print(len(trial[(trial['bankrupt']==0) & (trial['prediction']==0)]))\n",
        "print(len(trial[(trial['bankrupt']==0) & (trial['prediction']==1)]))\n",
        "print(len(trial[(trial['bankrupt']==1) & (trial['prediction']==0)]))"
      ],
      "execution_count": null,
      "outputs": [
        {
          "output_type": "stream",
          "name": "stdout",
          "text": [
            "24\n",
            "5905\n",
            "654\n",
            "196\n"
          ]
        }
      ]
    },
    {
      "cell_type": "code",
      "metadata": {
        "colab": {
          "base_uri": "https://localhost:8080/"
        },
        "id": "uWCJg9UQkZvz",
        "outputId": "282f002b-64c4-4600-9928-9dea18ed0c0e"
      },
      "source": [
        "confusion_matrix(trial['bankrupt'],trial['prediction'])"
      ],
      "execution_count": null,
      "outputs": [
        {
          "output_type": "execute_result",
          "data": {
            "text/plain": [
              "array([[5905,  654],\n",
              "       [ 196,   24]])"
            ]
          },
          "metadata": {},
          "execution_count": 1494
        }
      ]
    },
    {
      "cell_type": "code",
      "metadata": {
        "id": "Mh-DCF9wkZs4"
      },
      "source": [
        "from pyod.models.lof import LOF"
      ],
      "execution_count": null,
      "outputs": []
    },
    {
      "cell_type": "code",
      "metadata": {
        "colab": {
          "base_uri": "https://localhost:8080/"
        },
        "id": "w8Phb-EbkZqh",
        "outputId": "9121993e-fd02-4524-cd5d-eea576118fa6"
      },
      "source": [
        "#s=MinMaxScaler()\n",
        "s=StandardScaler()\n",
        "X_4=s.fit_transform(X_4)\n",
        "clf = LOF(n_neighbors=30, contamination=0.04)\n",
        "clf.fit(X_4)\n",
        "trial=pd.DataFrame(zip(df_1['Bankrupt?'],clf.labels_,clf.decision_scores_), columns=['bankrupt','prediction','scores'])\n",
        "print(len(trial[(trial['bankrupt']==1) & (trial['prediction']==1)]))\n",
        "print(len(trial[(trial['bankrupt']==0) & (trial['prediction']==0)]))\n",
        "print(len(trial[(trial['bankrupt']==0) & (trial['prediction']==1)]))\n",
        "print(len(trial[(trial['bankrupt']==1) & (trial['prediction']==0)]))"
      ],
      "execution_count": null,
      "outputs": [
        {
          "output_type": "stream",
          "name": "stdout",
          "text": [
            "10\n",
            "6297\n",
            "262\n",
            "210\n"
          ]
        }
      ]
    },
    {
      "cell_type": "code",
      "metadata": {
        "colab": {
          "base_uri": "https://localhost:8080/"
        },
        "id": "q5T-6wxQkZly",
        "outputId": "37c389ba-c731-4b40-c49b-ba1b018e65b9"
      },
      "source": [
        "confusion_matrix(trial['bankrupt'],trial['prediction'])"
      ],
      "execution_count": null,
      "outputs": [
        {
          "output_type": "execute_result",
          "data": {
            "text/plain": [
              "array([[6297,  262],\n",
              "       [ 210,   10]])"
            ]
          },
          "metadata": {},
          "execution_count": 1497
        }
      ]
    },
    {
      "cell_type": "code",
      "metadata": {
        "id": "K-XSJZxteSYD"
      },
      "source": [
        ""
      ],
      "execution_count": null,
      "outputs": []
    },
    {
      "cell_type": "markdown",
      "metadata": {
        "id": "ZX8F2Fo3E020"
      },
      "source": [
        "# **1. KNN Algorithm- Without Under Sampling**"
      ]
    },
    {
      "cell_type": "code",
      "metadata": {
        "id": "5dls-b2lHmFU"
      },
      "source": [
        "from sklearn.model_selection import train_test_split"
      ],
      "execution_count": null,
      "outputs": []
    },
    {
      "cell_type": "code",
      "metadata": {
        "id": "4TvNCPzSHmBp"
      },
      "source": [
        "y_1=df_1['Bankrupt?']\n",
        "X_train, X_test, y_train, y_test= train_test_split(X_3,y_1, test_size=0.2, stratify=y_1)"
      ],
      "execution_count": null,
      "outputs": []
    },
    {
      "cell_type": "code",
      "metadata": {
        "id": "e-TLN-kSHUdB"
      },
      "source": [
        "from sklearn.preprocessing import MinMaxScaler, StandardScaler"
      ],
      "execution_count": null,
      "outputs": []
    },
    {
      "cell_type": "code",
      "metadata": {
        "id": "JLeew2rkHUUC",
        "colab": {
          "base_uri": "https://localhost:8080/"
        },
        "outputId": "a9ca753e-6c6c-439f-a716-478fe5876d1a"
      },
      "source": [
        "scaler=StandardScaler()\n",
        "scaler.fit(X_train)"
      ],
      "execution_count": null,
      "outputs": [
        {
          "output_type": "execute_result",
          "data": {
            "text/plain": [
              "StandardScaler(copy=True, with_mean=True, with_std=True)"
            ]
          },
          "metadata": {},
          "execution_count": 960
        }
      ]
    },
    {
      "cell_type": "code",
      "metadata": {
        "id": "sgiQZahbItZ1"
      },
      "source": [
        "X_train=scaler.transform(X_train)\n",
        "X_test=scaler.transform(X_test)"
      ],
      "execution_count": null,
      "outputs": []
    },
    {
      "cell_type": "code",
      "metadata": {
        "colab": {
          "base_uri": "https://localhost:8080/"
        },
        "id": "Na5SNHrWG-si",
        "outputId": "ed9b945b-c2dd-470d-d4d7-c444f211edad"
      },
      "source": [
        "from sklearn.neighbors import KNeighborsClassifier\n",
        "neighbor = KNeighborsClassifier(n_neighbors=3)\n",
        "neighbor.fit(X_train, y_train)"
      ],
      "execution_count": null,
      "outputs": [
        {
          "output_type": "execute_result",
          "data": {
            "text/plain": [
              "KNeighborsClassifier(algorithm='auto', leaf_size=30, metric='minkowski',\n",
              "                     metric_params=None, n_jobs=None, n_neighbors=3, p=2,\n",
              "                     weights='uniform')"
            ]
          },
          "metadata": {},
          "execution_count": 962
        }
      ]
    },
    {
      "cell_type": "code",
      "metadata": {
        "id": "1lidsyt3G-pb"
      },
      "source": [
        "y_train_pred_1=neighbor.predict(X_train)\n",
        "y_test_pred_1=neighbor.predict(X_test)"
      ],
      "execution_count": null,
      "outputs": []
    },
    {
      "cell_type": "code",
      "metadata": {
        "colab": {
          "base_uri": "https://localhost:8080/"
        },
        "id": "QL-RQeZKG-nF",
        "outputId": "c686743c-63e0-42f4-edf7-6d131580ce5f"
      },
      "source": [
        "confusion_matrix(y_train,y_train_pred_1)"
      ],
      "execution_count": null,
      "outputs": [
        {
          "output_type": "execute_result",
          "data": {
            "text/plain": [
              "array([[5268,   11],\n",
              "       [ 122,   54]])"
            ]
          },
          "metadata": {},
          "execution_count": 964
        }
      ]
    },
    {
      "cell_type": "code",
      "metadata": {
        "colab": {
          "base_uri": "https://localhost:8080/"
        },
        "id": "Y6ecQXWfG-kd",
        "outputId": "ca0055c9-5135-401b-b858-dcbe785ad905"
      },
      "source": [
        "confusion_matrix(y_test,y_test_pred_1)"
      ],
      "execution_count": null,
      "outputs": [
        {
          "output_type": "execute_result",
          "data": {
            "text/plain": [
              "array([[1315,    5],\n",
              "       [  39,    5]])"
            ]
          },
          "metadata": {},
          "execution_count": 965
        }
      ]
    },
    {
      "cell_type": "code",
      "metadata": {
        "colab": {
          "base_uri": "https://localhost:8080/"
        },
        "id": "ThC0jggRX-H3",
        "outputId": "5e6d8586-425f-4aaa-98f5-1caa3a6217b4"
      },
      "source": [
        "print(classification_report(y_train,y_train_pred_1))"
      ],
      "execution_count": null,
      "outputs": [
        {
          "output_type": "stream",
          "name": "stdout",
          "text": [
            "              precision    recall  f1-score   support\n",
            "\n",
            "           0       0.98      1.00      0.99      5279\n",
            "           1       0.83      0.31      0.45       176\n",
            "\n",
            "    accuracy                           0.98      5455\n",
            "   macro avg       0.90      0.65      0.72      5455\n",
            "weighted avg       0.97      0.98      0.97      5455\n",
            "\n"
          ]
        }
      ]
    },
    {
      "cell_type": "code",
      "metadata": {
        "colab": {
          "base_uri": "https://localhost:8080/"
        },
        "id": "HRH5g3e2X-Em",
        "outputId": "371c9bfe-9de4-43a0-fb74-315ae65793a4"
      },
      "source": [
        "print(classification_report(y_test,y_test_pred_1))"
      ],
      "execution_count": null,
      "outputs": [
        {
          "output_type": "stream",
          "name": "stdout",
          "text": [
            "              precision    recall  f1-score   support\n",
            "\n",
            "           0       0.97      1.00      0.98      1320\n",
            "           1       0.50      0.11      0.19        44\n",
            "\n",
            "    accuracy                           0.97      1364\n",
            "   macro avg       0.74      0.55      0.58      1364\n",
            "weighted avg       0.96      0.97      0.96      1364\n",
            "\n"
          ]
        }
      ]
    },
    {
      "cell_type": "markdown",
      "metadata": {
        "id": "V0tKFaFYXU5A"
      },
      "source": [
        "# **K-nn With Under Sampling**"
      ]
    },
    {
      "cell_type": "markdown",
      "metadata": {
        "id": "N3s09keMLaEo"
      },
      "source": [
        "# Under-Sampling"
      ]
    },
    {
      "cell_type": "code",
      "metadata": {
        "colab": {
          "base_uri": "https://localhost:8080/"
        },
        "id": "-VDQNZt0Lao3",
        "outputId": "650ce1d7-90c8-4e16-d6ad-b1314a35c73a"
      },
      "source": [
        "# define the undersampling method\n",
        "undersample = NearMiss(version=1, n_neighbors=3)\n",
        "X, y = undersample.fit_resample(X_3, y_1)\n",
        "counter = Counter(y)\n",
        "print(counter)"
      ],
      "execution_count": null,
      "outputs": [
        {
          "output_type": "stream",
          "name": "stdout",
          "text": [
            "Counter({0: 220, 1: 220})\n"
          ]
        },
        {
          "output_type": "stream",
          "name": "stderr",
          "text": [
            "/usr/local/lib/python3.7/dist-packages/sklearn/utils/deprecation.py:87: FutureWarning: Function safe_indexing is deprecated; safe_indexing is deprecated in version 0.22 and will be removed in version 0.24.\n",
            "  warnings.warn(msg, category=FutureWarning)\n",
            "/usr/local/lib/python3.7/dist-packages/sklearn/utils/deprecation.py:87: FutureWarning: Function safe_indexing is deprecated; safe_indexing is deprecated in version 0.22 and will be removed in version 0.24.\n",
            "  warnings.warn(msg, category=FutureWarning)\n",
            "/usr/local/lib/python3.7/dist-packages/sklearn/utils/deprecation.py:87: FutureWarning: Function safe_indexing is deprecated; safe_indexing is deprecated in version 0.22 and will be removed in version 0.24.\n",
            "  warnings.warn(msg, category=FutureWarning)\n"
          ]
        }
      ]
    },
    {
      "cell_type": "code",
      "metadata": {
        "id": "YW95R9mYaGkE",
        "colab": {
          "base_uri": "https://localhost:8080/"
        },
        "outputId": "a13c08ca-38c8-4ba7-dd4d-51b313a55f51"
      },
      "source": [
        "scaler_knn=StandardScaler()\n",
        "scaler_knn.fit(X_3)"
      ],
      "execution_count": null,
      "outputs": [
        {
          "output_type": "execute_result",
          "data": {
            "text/plain": [
              "StandardScaler(copy=True, with_mean=True, with_std=True)"
            ]
          },
          "metadata": {},
          "execution_count": 969
        }
      ]
    },
    {
      "cell_type": "code",
      "metadata": {
        "colab": {
          "base_uri": "https://localhost:8080/"
        },
        "id": "OmJTGys3yKRy",
        "outputId": "9ecf9f8f-e913-4e22-d2cc-9d24f47389eb"
      },
      "source": [
        "X.shape"
      ],
      "execution_count": null,
      "outputs": [
        {
          "output_type": "execute_result",
          "data": {
            "text/plain": [
              "(440, 27)"
            ]
          },
          "metadata": {},
          "execution_count": 970
        }
      ]
    },
    {
      "cell_type": "code",
      "metadata": {
        "id": "gV0vaOkkxP9y"
      },
      "source": [
        "X=scaler_knn.transform(X)\n",
        "X_3_scaled=scaler_knn.transform(X_3)"
      ],
      "execution_count": null,
      "outputs": []
    },
    {
      "cell_type": "code",
      "metadata": {
        "colab": {
          "base_uri": "https://localhost:8080/"
        },
        "id": "6uAgdf-PCuBf",
        "outputId": "2ac740ca-deb1-441e-c43b-be2a66b65e06"
      },
      "source": [
        "neigh = KNeighborsClassifier(n_neighbors=3)\n",
        "neigh.fit(X, y)"
      ],
      "execution_count": null,
      "outputs": [
        {
          "output_type": "execute_result",
          "data": {
            "text/plain": [
              "KNeighborsClassifier(algorithm='auto', leaf_size=30, metric='minkowski',\n",
              "                     metric_params=None, n_jobs=None, n_neighbors=3, p=2,\n",
              "                     weights='uniform')"
            ]
          },
          "metadata": {},
          "execution_count": 972
        }
      ]
    },
    {
      "cell_type": "code",
      "metadata": {
        "id": "JkezQ3xdFEJK"
      },
      "source": [
        "y_train_pred=neigh.predict(X)\n",
        "y_test_pred=neigh.predict(X_3_scaled)"
      ],
      "execution_count": null,
      "outputs": []
    },
    {
      "cell_type": "markdown",
      "metadata": {
        "id": "Ftn2pdvFLqq1"
      },
      "source": [
        "## **Train Classification Report**"
      ]
    },
    {
      "cell_type": "code",
      "metadata": {
        "colab": {
          "base_uri": "https://localhost:8080/"
        },
        "id": "lcZ3HomKGi-k",
        "outputId": "e9f9824b-cea0-400f-de80-6ae491d719f0"
      },
      "source": [
        "confusion_matrix(y,y_train_pred)"
      ],
      "execution_count": null,
      "outputs": [
        {
          "output_type": "execute_result",
          "data": {
            "text/plain": [
              "array([[210,  10],\n",
              "       [ 56, 164]])"
            ]
          },
          "metadata": {},
          "execution_count": 974
        }
      ]
    },
    {
      "cell_type": "code",
      "metadata": {
        "colab": {
          "base_uri": "https://localhost:8080/"
        },
        "id": "zKO89AxTFxNq",
        "outputId": "76ee62e4-0055-4f7e-afbe-041f42ccf046"
      },
      "source": [
        "print(classification_report(y,y_train_pred))"
      ],
      "execution_count": null,
      "outputs": [
        {
          "output_type": "stream",
          "name": "stdout",
          "text": [
            "              precision    recall  f1-score   support\n",
            "\n",
            "           0       0.79      0.95      0.86       220\n",
            "           1       0.94      0.75      0.83       220\n",
            "\n",
            "    accuracy                           0.85       440\n",
            "   macro avg       0.87      0.85      0.85       440\n",
            "weighted avg       0.87      0.85      0.85       440\n",
            "\n"
          ]
        }
      ]
    },
    {
      "cell_type": "markdown",
      "metadata": {
        "id": "KJbOw5eGMHVP"
      },
      "source": [
        "## **Test Classification Report**"
      ]
    },
    {
      "cell_type": "code",
      "metadata": {
        "colab": {
          "base_uri": "https://localhost:8080/"
        },
        "id": "Kpp_jW-_GuIj",
        "outputId": "4141f495-9fe0-4d71-e130-28b088ef3a83"
      },
      "source": [
        "confusion_matrix(y_1,y_test_pred)"
      ],
      "execution_count": null,
      "outputs": [
        {
          "output_type": "execute_result",
          "data": {
            "text/plain": [
              "array([[2862, 3737],\n",
              "       [  56,  164]])"
            ]
          },
          "metadata": {},
          "execution_count": 976
        }
      ]
    },
    {
      "cell_type": "code",
      "metadata": {
        "colab": {
          "base_uri": "https://localhost:8080/"
        },
        "id": "HTUjGOl3GN2Q",
        "outputId": "f9b3db7b-ca9a-41a5-b922-ab3e9225604b"
      },
      "source": [
        "print(classification_report(y_1,y_test_pred))"
      ],
      "execution_count": null,
      "outputs": [
        {
          "output_type": "stream",
          "name": "stdout",
          "text": [
            "              precision    recall  f1-score   support\n",
            "\n",
            "           0       0.98      0.43      0.60      6599\n",
            "           1       0.04      0.75      0.08       220\n",
            "\n",
            "    accuracy                           0.44      6819\n",
            "   macro avg       0.51      0.59      0.34      6819\n",
            "weighted avg       0.95      0.44      0.58      6819\n",
            "\n"
          ]
        }
      ]
    },
    {
      "cell_type": "code",
      "metadata": {
        "colab": {
          "base_uri": "https://localhost:8080/"
        },
        "id": "8Bsv_xNcMS2D",
        "outputId": "70db4e7d-0da7-4915-ea78-95da77ca2d96"
      },
      "source": [
        "recall_score(y_1,y_test_pred)"
      ],
      "execution_count": null,
      "outputs": [
        {
          "output_type": "execute_result",
          "data": {
            "text/plain": [
              "0.7454545454545455"
            ]
          },
          "metadata": {},
          "execution_count": 978
        }
      ]
    },
    {
      "cell_type": "markdown",
      "metadata": {
        "id": "xKA9Th5kYsD_"
      },
      "source": [
        "# **Support Vector Machine Without Under Sampling**"
      ]
    },
    {
      "cell_type": "code",
      "metadata": {
        "colab": {
          "base_uri": "https://localhost:8080/"
        },
        "id": "KYU0EwPJGXYJ",
        "outputId": "8d873ed7-f4a2-4d1e-ce6a-223f5d9dda18"
      },
      "source": [
        "from sklearn import svm\n",
        "clf = svm.SVC(kernel='poly')\n",
        "clf.fit(X_train, y_train)"
      ],
      "execution_count": null,
      "outputs": [
        {
          "output_type": "execute_result",
          "data": {
            "text/plain": [
              "SVC(C=1.0, break_ties=False, cache_size=200, class_weight=None, coef0=0.0,\n",
              "    decision_function_shape='ovr', degree=3, gamma='scale', kernel='poly',\n",
              "    max_iter=-1, probability=False, random_state=None, shrinking=True,\n",
              "    tol=0.001, verbose=False)"
            ]
          },
          "metadata": {},
          "execution_count": 979
        }
      ]
    },
    {
      "cell_type": "code",
      "metadata": {
        "id": "oUf_PIchZUZ9"
      },
      "source": [
        "svm_train_pred=clf.predict(X_train)\n",
        "svm_test_pred=clf.predict(X_test)"
      ],
      "execution_count": null,
      "outputs": []
    },
    {
      "cell_type": "code",
      "metadata": {
        "colab": {
          "base_uri": "https://localhost:8080/"
        },
        "id": "zk7WZCAIZfnT",
        "outputId": "ef5b2bb1-7ad2-4c02-e8a7-68e80ee505db"
      },
      "source": [
        "confusion_matrix(y_train,svm_train_pred)"
      ],
      "execution_count": null,
      "outputs": [
        {
          "output_type": "execute_result",
          "data": {
            "text/plain": [
              "array([[5279,    0],\n",
              "       [ 128,   48]])"
            ]
          },
          "metadata": {},
          "execution_count": 981
        }
      ]
    },
    {
      "cell_type": "code",
      "metadata": {
        "colab": {
          "base_uri": "https://localhost:8080/"
        },
        "id": "Sya3CSTiwuEA",
        "outputId": "a25d05d9-b74a-4616-a4ef-9424a2e77caf"
      },
      "source": [
        "confusion_matrix(y_test,svm_test_pred)"
      ],
      "execution_count": null,
      "outputs": [
        {
          "output_type": "execute_result",
          "data": {
            "text/plain": [
              "array([[1318,    2],\n",
              "       [  41,    3]])"
            ]
          },
          "metadata": {},
          "execution_count": 982
        }
      ]
    },
    {
      "cell_type": "markdown",
      "metadata": {
        "id": "HaM7LEY2yvwE"
      },
      "source": [
        "# **SVM with Under Sampling**"
      ]
    },
    {
      "cell_type": "code",
      "metadata": {
        "colab": {
          "base_uri": "https://localhost:8080/"
        },
        "id": "UpnmKf80z_kN",
        "outputId": "0376e65e-a887-4edb-c045-5e33a1454dee"
      },
      "source": [
        "X.shape, y.shape"
      ],
      "execution_count": null,
      "outputs": [
        {
          "output_type": "execute_result",
          "data": {
            "text/plain": [
              "((440, 27), (440,))"
            ]
          },
          "metadata": {},
          "execution_count": 983
        }
      ]
    },
    {
      "cell_type": "code",
      "metadata": {
        "colab": {
          "base_uri": "https://localhost:8080/"
        },
        "id": "DJj62H8Nw1py",
        "outputId": "23098274-3d6b-40e2-c9d7-60bbf6995789"
      },
      "source": [
        "from sklearn import svm\n",
        "clf_us = svm.SVC(kernel='poly')\n",
        "clf_us.fit(X, y)"
      ],
      "execution_count": null,
      "outputs": [
        {
          "output_type": "execute_result",
          "data": {
            "text/plain": [
              "SVC(C=1.0, break_ties=False, cache_size=200, class_weight=None, coef0=0.0,\n",
              "    decision_function_shape='ovr', degree=3, gamma='scale', kernel='poly',\n",
              "    max_iter=-1, probability=False, random_state=None, shrinking=True,\n",
              "    tol=0.001, verbose=False)"
            ]
          },
          "metadata": {},
          "execution_count": 984
        }
      ]
    },
    {
      "cell_type": "code",
      "metadata": {
        "id": "2zDWXSDxy38x"
      },
      "source": [
        "svm_train_pred_us=clf_us.predict(X)\n",
        "svm_test_pred_us=clf_us.predict(X_3)"
      ],
      "execution_count": null,
      "outputs": []
    },
    {
      "cell_type": "code",
      "metadata": {
        "colab": {
          "base_uri": "https://localhost:8080/"
        },
        "id": "2WtjRjYGzUFf",
        "outputId": "4dca25b1-1b2f-421a-d704-2214dff8bc67"
      },
      "source": [
        "confusion_matrix(y,svm_train_pred_us)"
      ],
      "execution_count": null,
      "outputs": [
        {
          "output_type": "execute_result",
          "data": {
            "text/plain": [
              "array([[215,   5],\n",
              "       [ 84, 136]])"
            ]
          },
          "metadata": {},
          "execution_count": 986
        }
      ]
    },
    {
      "cell_type": "code",
      "metadata": {
        "colab": {
          "base_uri": "https://localhost:8080/"
        },
        "id": "_S8AJYhszZu3",
        "outputId": "f3ec19bb-d184-445e-8d2f-d998cd4ff3cc"
      },
      "source": [
        "confusion_matrix(y_1,svm_test_pred_us)"
      ],
      "execution_count": null,
      "outputs": [
        {
          "output_type": "execute_result",
          "data": {
            "text/plain": [
              "array([[5558, 1041],\n",
              "       [  84,  136]])"
            ]
          },
          "metadata": {},
          "execution_count": 987
        }
      ]
    },
    {
      "cell_type": "code",
      "metadata": {
        "colab": {
          "base_uri": "https://localhost:8080/"
        },
        "id": "2scn1trO2b7E",
        "outputId": "3f757892-ded4-40b6-bbcb-140096935445"
      },
      "source": [
        "print(classification_report(y_1,svm_test_pred_us))"
      ],
      "execution_count": null,
      "outputs": [
        {
          "output_type": "stream",
          "name": "stdout",
          "text": [
            "              precision    recall  f1-score   support\n",
            "\n",
            "           0       0.99      0.84      0.91      6599\n",
            "           1       0.12      0.62      0.19       220\n",
            "\n",
            "    accuracy                           0.84      6819\n",
            "   macro avg       0.55      0.73      0.55      6819\n",
            "weighted avg       0.96      0.84      0.89      6819\n",
            "\n"
          ]
        }
      ]
    },
    {
      "cell_type": "code",
      "metadata": {
        "colab": {
          "base_uri": "https://localhost:8080/"
        },
        "id": "NxqclLPiMg-J",
        "outputId": "b8b70e42-fb33-41e0-ccbc-30a1101e6c60"
      },
      "source": [
        "recall_score(y_1,svm_test_pred_us)"
      ],
      "execution_count": null,
      "outputs": [
        {
          "output_type": "execute_result",
          "data": {
            "text/plain": [
              "0.6181818181818182"
            ]
          },
          "metadata": {},
          "execution_count": 989
        }
      ]
    },
    {
      "cell_type": "code",
      "metadata": {
        "colab": {
          "base_uri": "https://localhost:8080/"
        },
        "id": "ih177pPcMoet",
        "outputId": "25c3fee0-0e74-46c8-c58e-a2be4409bcd0"
      },
      "source": [
        "f1_score(y_1,svm_test_pred_us)"
      ],
      "execution_count": null,
      "outputs": [
        {
          "output_type": "execute_result",
          "data": {
            "text/plain": [
              "0.19470293486041515"
            ]
          },
          "metadata": {},
          "execution_count": 990
        }
      ]
    },
    {
      "cell_type": "markdown",
      "metadata": {
        "id": "rDcL259C0ZrJ"
      },
      "source": [
        "# **Grid Search with SVM**"
      ]
    },
    {
      "cell_type": "code",
      "metadata": {
        "colab": {
          "base_uri": "https://localhost:8080/"
        },
        "id": "5masqXPdz0MA",
        "outputId": "41b97879-80aa-4e7e-c6cd-fb9aa800e03f"
      },
      "source": [
        "clf_tf = svm.SVC()\n",
        "paramgrid=dict(gamma=[0.001,0.01,0.1,1], C=[0.0001,0.001,0.01,0.1,1.0],kernel=['rbf','linear','sigmoid','poly'])\n",
        "model=GridSearchCV(clf_tf,param_grid=paramgrid,cv=5, scoring='f1')\n",
        "model.fit(X,y)"
      ],
      "execution_count": null,
      "outputs": [
        {
          "output_type": "execute_result",
          "data": {
            "text/plain": [
              "GridSearchCV(cv=5, error_score=nan,\n",
              "             estimator=SVC(C=1.0, break_ties=False, cache_size=200,\n",
              "                           class_weight=None, coef0=0.0,\n",
              "                           decision_function_shape='ovr', degree=3,\n",
              "                           gamma='scale', kernel='rbf', max_iter=-1,\n",
              "                           probability=False, random_state=None, shrinking=True,\n",
              "                           tol=0.001, verbose=False),\n",
              "             iid='deprecated', n_jobs=None,\n",
              "             param_grid={'C': [0.0001, 0.001, 0.01, 0.1, 1.0],\n",
              "                         'gamma': [0.001, 0.01, 0.1, 1],\n",
              "                         'kernel': ['rbf', 'linear', 'sigmoid', 'poly']},\n",
              "             pre_dispatch='2*n_jobs', refit=True, return_train_score=False,\n",
              "             scoring='f1', verbose=0)"
            ]
          },
          "metadata": {},
          "execution_count": 991
        }
      ]
    },
    {
      "cell_type": "code",
      "metadata": {
        "colab": {
          "base_uri": "https://localhost:8080/"
        },
        "id": "B8jQjeLW0ScY",
        "outputId": "b0325d1d-1c47-4554-a809-85707cbadfde"
      },
      "source": [
        "model.best_params_"
      ],
      "execution_count": null,
      "outputs": [
        {
          "output_type": "execute_result",
          "data": {
            "text/plain": [
              "{'C': 0.1, 'gamma': 0.1, 'kernel': 'rbf'}"
            ]
          },
          "metadata": {},
          "execution_count": 992
        }
      ]
    },
    {
      "cell_type": "code",
      "metadata": {
        "id": "33-N3dVy0gco"
      },
      "source": [
        "gs_train_pred_svm=model.predict(X)\n",
        "gs_test_pred_svm=model.predict(X_3)"
      ],
      "execution_count": null,
      "outputs": []
    },
    {
      "cell_type": "code",
      "metadata": {
        "colab": {
          "base_uri": "https://localhost:8080/"
        },
        "id": "ZCh3Lqu61s0Z",
        "outputId": "4022544e-4521-403b-f9ec-c6a96fa51b89"
      },
      "source": [
        "confusion_matrix(y,gs_train_pred_svm)"
      ],
      "execution_count": null,
      "outputs": [
        {
          "output_type": "execute_result",
          "data": {
            "text/plain": [
              "array([[192,  28],\n",
              "       [ 32, 188]])"
            ]
          },
          "metadata": {},
          "execution_count": 994
        }
      ]
    },
    {
      "cell_type": "code",
      "metadata": {
        "colab": {
          "base_uri": "https://localhost:8080/"
        },
        "id": "_LIWA3hz1zJJ",
        "outputId": "a01b104a-59dc-4c52-90ee-63a378713f66"
      },
      "source": [
        "confusion_matrix(y_1,gs_test_pred_svm)"
      ],
      "execution_count": null,
      "outputs": [
        {
          "output_type": "execute_result",
          "data": {
            "text/plain": [
              "array([[1077, 5522],\n",
              "       [  32,  188]])"
            ]
          },
          "metadata": {},
          "execution_count": 995
        }
      ]
    },
    {
      "cell_type": "code",
      "metadata": {
        "colab": {
          "base_uri": "https://localhost:8080/"
        },
        "id": "jSsQShbC2Ebh",
        "outputId": "8e70bb13-a1f1-429e-ff21-2b3d48ace324"
      },
      "source": [
        "print(classification_report(y_1,gs_test_pred_svm))"
      ],
      "execution_count": null,
      "outputs": [
        {
          "output_type": "stream",
          "name": "stdout",
          "text": [
            "              precision    recall  f1-score   support\n",
            "\n",
            "           0       0.97      0.16      0.28      6599\n",
            "           1       0.03      0.85      0.06       220\n",
            "\n",
            "    accuracy                           0.19      6819\n",
            "   macro avg       0.50      0.51      0.17      6819\n",
            "weighted avg       0.94      0.19      0.27      6819\n",
            "\n"
          ]
        }
      ]
    },
    {
      "cell_type": "code",
      "metadata": {
        "colab": {
          "base_uri": "https://localhost:8080/"
        },
        "id": "qCoDKUQ-3_SM",
        "outputId": "ef06dbe8-6ae2-4511-c822-9ab18f975d00"
      },
      "source": [
        "accuracy_score(y_1,gs_test_pred_svm)"
      ],
      "execution_count": null,
      "outputs": [
        {
          "output_type": "execute_result",
          "data": {
            "text/plain": [
              "0.18551107200469277"
            ]
          },
          "metadata": {},
          "execution_count": 997
        }
      ]
    },
    {
      "cell_type": "markdown",
      "metadata": {
        "id": "OiDR4R9X5yO3"
      },
      "source": [
        "# **Over Sampling**"
      ]
    },
    {
      "cell_type": "code",
      "metadata": {
        "id": "jZgO_5fOZMi5",
        "colab": {
          "base_uri": "https://localhost:8080/",
          "height": 296
        },
        "outputId": "1c82f721-ce85-4bac-cc28-6675d30a1734"
      },
      "source": [
        "X_3.head()"
      ],
      "execution_count": null,
      "outputs": [
        {
          "output_type": "execute_result",
          "data": {
            "text/html": [
              "<div>\n",
              "<style scoped>\n",
              "    .dataframe tbody tr th:only-of-type {\n",
              "        vertical-align: middle;\n",
              "    }\n",
              "\n",
              "    .dataframe tbody tr th {\n",
              "        vertical-align: top;\n",
              "    }\n",
              "\n",
              "    .dataframe thead th {\n",
              "        text-align: right;\n",
              "    }\n",
              "</style>\n",
              "<table border=\"1\" class=\"dataframe\">\n",
              "  <thead>\n",
              "    <tr style=\"text-align: right;\">\n",
              "      <th></th>\n",
              "      <th>Cash/Current Liability</th>\n",
              "      <th>Fixed Assets to Assets</th>\n",
              "      <th>Net Value Growth Rate</th>\n",
              "      <th>Fixed Assets Turnover Frequency</th>\n",
              "      <th>Revenue per person</th>\n",
              "      <th>Total assets to GNP price</th>\n",
              "      <th>Quick Ratio</th>\n",
              "      <th>Quick Asset Turnover Rate</th>\n",
              "      <th>Total Asset Growth Rate</th>\n",
              "      <th>Research and development expense rate</th>\n",
              "      <th>Cash Turnover Rate</th>\n",
              "      <th>Total debt/Total net worth</th>\n",
              "      <th>Current Asset Turnover Rate</th>\n",
              "      <th>Interest-bearing debt interest rate</th>\n",
              "      <th>Average Collection Days</th>\n",
              "      <th>Operating Expense Rate</th>\n",
              "      <th>Accounts Receivable Turnover</th>\n",
              "      <th>Quick Assets/Current Liability</th>\n",
              "      <th>Allocation rate per person</th>\n",
              "      <th>Revenue Per Share (Yuan ¥)</th>\n",
              "      <th>Current Ratio</th>\n",
              "      <th>Inventory Turnover Rate (times)</th>\n",
              "      <th>Inventory/Current Liability</th>\n",
              "      <th>Long-term Liability to Current Assets</th>\n",
              "      <th>Tax rate (A)</th>\n",
              "      <th>Debt ratio %</th>\n",
              "      <th>Cash/Total Assets</th>\n",
              "    </tr>\n",
              "  </thead>\n",
              "  <tbody>\n",
              "    <tr>\n",
              "      <th>0</th>\n",
              "      <td>-0.476012</td>\n",
              "      <td>1.013107</td>\n",
              "      <td>-0.479175</td>\n",
              "      <td>-0.469977</td>\n",
              "      <td>0.459776</td>\n",
              "      <td>0.155886</td>\n",
              "      <td>-0.896658</td>\n",
              "      <td>1.373899</td>\n",
              "      <td>0.216011</td>\n",
              "      <td>-1.191524</td>\n",
              "      <td>0.483345</td>\n",
              "      <td>1.731241</td>\n",
              "      <td>2.120426</td>\n",
              "      <td>-0.182021</td>\n",
              "      <td>-0.548116</td>\n",
              "      <td>-0.709170</td>\n",
              "      <td>-0.028669</td>\n",
              "      <td>-1.077287</td>\n",
              "      <td>1.287201</td>\n",
              "      <td>-0.645168</td>\n",
              "      <td>-1.721960</td>\n",
              "      <td>-0.870125</td>\n",
              "      <td>-0.299637</td>\n",
              "      <td>0.257253</td>\n",
              "      <td>-1.045722</td>\n",
              "      <td>1.648838</td>\n",
              "      <td>-1.500033</td>\n",
              "    </tr>\n",
              "    <tr>\n",
              "      <th>1</th>\n",
              "      <td>-0.429795</td>\n",
              "      <td>1.165155</td>\n",
              "      <td>-0.170625</td>\n",
              "      <td>2.127741</td>\n",
              "      <td>-1.014307</td>\n",
              "      <td>0.100802</td>\n",
              "      <td>-0.608262</td>\n",
              "      <td>1.378773</td>\n",
              "      <td>0.385896</td>\n",
              "      <td>-1.191524</td>\n",
              "      <td>0.757942</td>\n",
              "      <td>0.690373</td>\n",
              "      <td>-0.470330</td>\n",
              "      <td>-0.182721</td>\n",
              "      <td>-0.341441</td>\n",
              "      <td>-0.709132</td>\n",
              "      <td>-0.106316</td>\n",
              "      <td>-0.774894</td>\n",
              "      <td>-0.032030</td>\n",
              "      <td>-0.478398</td>\n",
              "      <td>-0.978756</td>\n",
              "      <td>1.221480</td>\n",
              "      <td>-0.196925</td>\n",
              "      <td>0.225144</td>\n",
              "      <td>-1.045722</td>\n",
              "      <td>1.092448</td>\n",
              "      <td>-1.239978</td>\n",
              "    </tr>\n",
              "    <tr>\n",
              "      <th>2</th>\n",
              "      <td>8.672937</td>\n",
              "      <td>0.383636</td>\n",
              "      <td>-0.294089</td>\n",
              "      <td>2.132635</td>\n",
              "      <td>0.239932</td>\n",
              "      <td>1.808762</td>\n",
              "      <td>-0.477983</td>\n",
              "      <td>-0.732712</td>\n",
              "      <td>0.540081</td>\n",
              "      <td>0.238525</td>\n",
              "      <td>0.562659</td>\n",
              "      <td>1.729206</td>\n",
              "      <td>-0.469273</td>\n",
              "      <td>-0.181438</td>\n",
              "      <td>-0.440751</td>\n",
              "      <td>-0.709144</td>\n",
              "      <td>-0.075496</td>\n",
              "      <td>-0.484080</td>\n",
              "      <td>4.333121</td>\n",
              "      <td>-1.237885</td>\n",
              "      <td>-0.092495</td>\n",
              "      <td>0.916532</td>\n",
              "      <td>0.011014</td>\n",
              "      <td>-0.185946</td>\n",
              "      <td>-1.045722</td>\n",
              "      <td>1.647959</td>\n",
              "      <td>-1.578595</td>\n",
              "    </tr>\n",
              "    <tr>\n",
              "      <th>3</th>\n",
              "      <td>-0.443715</td>\n",
              "      <td>1.432375</td>\n",
              "      <td>-0.331289</td>\n",
              "      <td>2.136041</td>\n",
              "      <td>-0.459064</td>\n",
              "      <td>-0.219233</td>\n",
              "      <td>-0.723598</td>\n",
              "      <td>1.371481</td>\n",
              "      <td>0.199728</td>\n",
              "      <td>-1.191524</td>\n",
              "      <td>0.723252</td>\n",
              "      <td>0.312412</td>\n",
              "      <td>2.129050</td>\n",
              "      <td>-0.184499</td>\n",
              "      <td>-0.587909</td>\n",
              "      <td>-0.709174</td>\n",
              "      <td>-0.006363</td>\n",
              "      <td>-0.939030</td>\n",
              "      <td>0.485021</td>\n",
              "      <td>-0.799812</td>\n",
              "      <td>-1.323304</td>\n",
              "      <td>1.206311</td>\n",
              "      <td>-0.237805</td>\n",
              "      <td>0.190161</td>\n",
              "      <td>-1.045722</td>\n",
              "      <td>0.766695</td>\n",
              "      <td>-1.151758</td>\n",
              "    </tr>\n",
              "    <tr>\n",
              "      <th>4</th>\n",
              "      <td>-0.456050</td>\n",
              "      <td>0.545202</td>\n",
              "      <td>-0.181440</td>\n",
              "      <td>-0.469864</td>\n",
              "      <td>1.226443</td>\n",
              "      <td>-0.179002</td>\n",
              "      <td>-0.639598</td>\n",
              "      <td>1.365918</td>\n",
              "      <td>0.298709</td>\n",
              "      <td>-1.191524</td>\n",
              "      <td>0.575313</td>\n",
              "      <td>-0.288966</td>\n",
              "      <td>2.128527</td>\n",
              "      <td>-0.182371</td>\n",
              "      <td>-0.420527</td>\n",
              "      <td>1.425443</td>\n",
              "      <td>-0.082372</td>\n",
              "      <td>-0.755814</td>\n",
              "      <td>0.629591</td>\n",
              "      <td>-0.108517</td>\n",
              "      <td>-0.977625</td>\n",
              "      <td>-0.870128</td>\n",
              "      <td>-0.205255</td>\n",
              "      <td>-0.264847</td>\n",
              "      <td>-1.045722</td>\n",
              "      <td>-0.049068</td>\n",
              "      <td>-1.258090</td>\n",
              "    </tr>\n",
              "  </tbody>\n",
              "</table>\n",
              "</div>"
            ],
            "text/plain": [
              "    Cash/Current Liability   Fixed Assets to Assets   Net Value Growth Rate  \\\n",
              "0                -0.476012                 1.013107               -0.479175   \n",
              "1                -0.429795                 1.165155               -0.170625   \n",
              "2                 8.672937                 0.383636               -0.294089   \n",
              "3                -0.443715                 1.432375               -0.331289   \n",
              "4                -0.456050                 0.545202               -0.181440   \n",
              "\n",
              "    Fixed Assets Turnover Frequency   Revenue per person  \\\n",
              "0                         -0.469977             0.459776   \n",
              "1                          2.127741            -1.014307   \n",
              "2                          2.132635             0.239932   \n",
              "3                          2.136041            -0.459064   \n",
              "4                         -0.469864             1.226443   \n",
              "\n",
              "    Total assets to GNP price   Quick Ratio   Quick Asset Turnover Rate  \\\n",
              "0                    0.155886     -0.896658                    1.373899   \n",
              "1                    0.100802     -0.608262                    1.378773   \n",
              "2                    1.808762     -0.477983                   -0.732712   \n",
              "3                   -0.219233     -0.723598                    1.371481   \n",
              "4                   -0.179002     -0.639598                    1.365918   \n",
              "\n",
              "    Total Asset Growth Rate   Research and development expense rate  \\\n",
              "0                  0.216011                               -1.191524   \n",
              "1                  0.385896                               -1.191524   \n",
              "2                  0.540081                                0.238525   \n",
              "3                  0.199728                               -1.191524   \n",
              "4                  0.298709                               -1.191524   \n",
              "\n",
              "    Cash Turnover Rate   Total debt/Total net worth  \\\n",
              "0             0.483345                     1.731241   \n",
              "1             0.757942                     0.690373   \n",
              "2             0.562659                     1.729206   \n",
              "3             0.723252                     0.312412   \n",
              "4             0.575313                    -0.288966   \n",
              "\n",
              "    Current Asset Turnover Rate   Interest-bearing debt interest rate  \\\n",
              "0                      2.120426                             -0.182021   \n",
              "1                     -0.470330                             -0.182721   \n",
              "2                     -0.469273                             -0.181438   \n",
              "3                      2.129050                             -0.184499   \n",
              "4                      2.128527                             -0.182371   \n",
              "\n",
              "    Average Collection Days   Operating Expense Rate  \\\n",
              "0                 -0.548116                -0.709170   \n",
              "1                 -0.341441                -0.709132   \n",
              "2                 -0.440751                -0.709144   \n",
              "3                 -0.587909                -0.709174   \n",
              "4                 -0.420527                 1.425443   \n",
              "\n",
              "    Accounts Receivable Turnover   Quick Assets/Current Liability  \\\n",
              "0                      -0.028669                        -1.077287   \n",
              "1                      -0.106316                        -0.774894   \n",
              "2                      -0.075496                        -0.484080   \n",
              "3                      -0.006363                        -0.939030   \n",
              "4                      -0.082372                        -0.755814   \n",
              "\n",
              "    Allocation rate per person   Revenue Per Share (Yuan ¥)   Current Ratio  \\\n",
              "0                     1.287201                    -0.645168       -1.721960   \n",
              "1                    -0.032030                    -0.478398       -0.978756   \n",
              "2                     4.333121                    -1.237885       -0.092495   \n",
              "3                     0.485021                    -0.799812       -1.323304   \n",
              "4                     0.629591                    -0.108517       -0.977625   \n",
              "\n",
              "    Inventory Turnover Rate (times)   Inventory/Current Liability  \\\n",
              "0                         -0.870125                     -0.299637   \n",
              "1                          1.221480                     -0.196925   \n",
              "2                          0.916532                      0.011014   \n",
              "3                          1.206311                     -0.237805   \n",
              "4                         -0.870128                     -0.205255   \n",
              "\n",
              "    Long-term Liability to Current Assets   Tax rate (A)   Debt ratio %  \\\n",
              "0                                0.257253      -1.045722       1.648838   \n",
              "1                                0.225144      -1.045722       1.092448   \n",
              "2                               -0.185946      -1.045722       1.647959   \n",
              "3                                0.190161      -1.045722       0.766695   \n",
              "4                               -0.264847      -1.045722      -0.049068   \n",
              "\n",
              "    Cash/Total Assets  \n",
              "0           -1.500033  \n",
              "1           -1.239978  \n",
              "2           -1.578595  \n",
              "3           -1.151758  \n",
              "4           -1.258090  "
            ]
          },
          "metadata": {},
          "execution_count": 998
        }
      ]
    },
    {
      "cell_type": "code",
      "metadata": {
        "colab": {
          "base_uri": "https://localhost:8080/"
        },
        "id": "AVTy26L15cKy",
        "outputId": "821c5cbf-6a43-40ec-b859-390a5fc505bc"
      },
      "source": [
        "oversample = SMOTE()\n",
        "X_o, y_o = oversample.fit_resample(X_3, y_1)"
      ],
      "execution_count": null,
      "outputs": [
        {
          "output_type": "stream",
          "name": "stderr",
          "text": [
            "/usr/local/lib/python3.7/dist-packages/sklearn/utils/deprecation.py:87: FutureWarning: Function safe_indexing is deprecated; safe_indexing is deprecated in version 0.22 and will be removed in version 0.24.\n",
            "  warnings.warn(msg, category=FutureWarning)\n"
          ]
        }
      ]
    },
    {
      "cell_type": "code",
      "metadata": {
        "colab": {
          "base_uri": "https://localhost:8080/"
        },
        "id": "QuwTiRH-Eqqa",
        "outputId": "5bf0679a-f07a-460f-cbe4-41c3ed9dc2c9"
      },
      "source": [
        "X_o.shape,y_o.shape"
      ],
      "execution_count": null,
      "outputs": [
        {
          "output_type": "execute_result",
          "data": {
            "text/plain": [
              "((13198, 27), (13198,))"
            ]
          },
          "metadata": {},
          "execution_count": 1000
        }
      ]
    },
    {
      "cell_type": "code",
      "metadata": {
        "id": "CzEINwaBFDa9"
      },
      "source": [
        "X_o_train,X_o_test,y_o_train,y_o_test=train_test_split(X_o,y_o,test_size=0.25,stratify=y_o, random_state=99)\n",
        "sc=StandardScaler()\n",
        "sc.fit(X_o_train)\n",
        "X_train_ov=sc.transform(X_o_train)\n",
        "X_test_ov=sc.transform(X_o_test)\n",
        "clf_tf_o = svm.SVC(kernel='poly',C=0.1, gamma=1)\n",
        "clf_tf_o.fit(X_train_ov,y_o_train)\n",
        "over_train_pred=clf_tf_o.predict(X_train_ov)\n",
        "over_test_pred=clf_tf_o.predict(X_test_ov)\n",
        "# X_3_scaled_new=sc.transform(X_3)\n",
        "# x=f1_score(y_1,clf_tf_o.predict(X_3_scaled_new))\n",
        "\n"
      ],
      "execution_count": null,
      "outputs": []
    },
    {
      "cell_type": "code",
      "metadata": {
        "colab": {
          "base_uri": "https://localhost:8080/"
        },
        "id": "fmosuDlKEWxK",
        "outputId": "52312221-1bb2-4871-bcd8-0bbab27c1f50"
      },
      "source": [
        "confusion_matrix(y_o_train,over_train_pred)"
      ],
      "execution_count": null,
      "outputs": [
        {
          "output_type": "execute_result",
          "data": {
            "text/plain": [
              "array([[4948,    1],\n",
              "       [   0, 4949]])"
            ]
          },
          "metadata": {},
          "execution_count": 1002
        }
      ]
    },
    {
      "cell_type": "code",
      "metadata": {
        "colab": {
          "base_uri": "https://localhost:8080/"
        },
        "id": "RFdoMXjCHm-Z",
        "outputId": "78f59d0a-dd0d-49e6-e940-51874877c2f2"
      },
      "source": [
        "confusion_matrix(y_o_test,over_test_pred)"
      ],
      "execution_count": null,
      "outputs": [
        {
          "output_type": "execute_result",
          "data": {
            "text/plain": [
              "array([[1566,   84],\n",
              "       [   2, 1648]])"
            ]
          },
          "metadata": {},
          "execution_count": 1003
        }
      ]
    },
    {
      "cell_type": "code",
      "metadata": {
        "colab": {
          "base_uri": "https://localhost:8080/"
        },
        "id": "vIiUWG-IHtAK",
        "outputId": "ef8e536f-4015-4738-fea1-7c4537b0f162"
      },
      "source": [
        "print(classification_report(y_o_train, over_train_pred))"
      ],
      "execution_count": null,
      "outputs": [
        {
          "output_type": "stream",
          "name": "stdout",
          "text": [
            "              precision    recall  f1-score   support\n",
            "\n",
            "           0       1.00      1.00      1.00      4949\n",
            "           1       1.00      1.00      1.00      4949\n",
            "\n",
            "    accuracy                           1.00      9898\n",
            "   macro avg       1.00      1.00      1.00      9898\n",
            "weighted avg       1.00      1.00      1.00      9898\n",
            "\n"
          ]
        }
      ]
    },
    {
      "cell_type": "code",
      "metadata": {
        "colab": {
          "base_uri": "https://localhost:8080/"
        },
        "id": "5YwTsB9wIKoB",
        "outputId": "ee29806d-93bf-44f6-f9bd-b06bdb0311d7"
      },
      "source": [
        "print(classification_report(y_o_test, over_test_pred))"
      ],
      "execution_count": null,
      "outputs": [
        {
          "output_type": "stream",
          "name": "stdout",
          "text": [
            "              precision    recall  f1-score   support\n",
            "\n",
            "           0       1.00      0.95      0.97      1650\n",
            "           1       0.95      1.00      0.97      1650\n",
            "\n",
            "    accuracy                           0.97      3300\n",
            "   macro avg       0.98      0.97      0.97      3300\n",
            "weighted avg       0.98      0.97      0.97      3300\n",
            "\n"
          ]
        }
      ]
    },
    {
      "cell_type": "code",
      "metadata": {
        "colab": {
          "base_uri": "https://localhost:8080/"
        },
        "id": "jNn56PeRKA0M",
        "outputId": "21935bdf-3a24-498d-dd37-0a12e8b2fc55"
      },
      "source": [
        "f1_score(y_o_test, over_test_pred)"
      ],
      "execution_count": null,
      "outputs": [
        {
          "output_type": "execute_result",
          "data": {
            "text/plain": [
              "0.9745712596096984"
            ]
          },
          "metadata": {},
          "execution_count": 1006
        }
      ]
    },
    {
      "cell_type": "markdown",
      "metadata": {
        "id": "Mp07zxnsJoca"
      },
      "source": [
        "## **Original Dataset**"
      ]
    },
    {
      "cell_type": "code",
      "metadata": {
        "id": "PFKA29TtOGgA"
      },
      "source": [
        "X_3_scaled_new=sc.transform(X_3)"
      ],
      "execution_count": null,
      "outputs": []
    },
    {
      "cell_type": "code",
      "metadata": {
        "colab": {
          "base_uri": "https://localhost:8080/"
        },
        "id": "cX79LCMnIT9C",
        "outputId": "91eb1f99-5798-4583-e27e-04436c1cf10e"
      },
      "source": [
        "confusion_matrix(y_1,clf_tf_o.predict(X_3_scaled_new))"
      ],
      "execution_count": null,
      "outputs": [
        {
          "output_type": "execute_result",
          "data": {
            "text/plain": [
              "array([[6514,   85],\n",
              "       [   0,  220]])"
            ]
          },
          "metadata": {},
          "execution_count": 1008
        }
      ]
    },
    {
      "cell_type": "code",
      "metadata": {
        "colab": {
          "base_uri": "https://localhost:8080/"
        },
        "id": "_EDcrOPpIj0q",
        "outputId": "d0e2b498-6787-4aba-eead-884e9996e676"
      },
      "source": [
        "print(classification_report(y_1,clf_tf_o.predict(X_3_scaled_new)))"
      ],
      "execution_count": null,
      "outputs": [
        {
          "output_type": "stream",
          "name": "stdout",
          "text": [
            "              precision    recall  f1-score   support\n",
            "\n",
            "           0       1.00      0.99      0.99      6599\n",
            "           1       0.72      1.00      0.84       220\n",
            "\n",
            "    accuracy                           0.99      6819\n",
            "   macro avg       0.86      0.99      0.92      6819\n",
            "weighted avg       0.99      0.99      0.99      6819\n",
            "\n"
          ]
        }
      ]
    },
    {
      "cell_type": "code",
      "metadata": {
        "colab": {
          "base_uri": "https://localhost:8080/"
        },
        "id": "KzXxu2O2J3EA",
        "outputId": "f393ed50-afbd-4b5c-89f8-dbbf4009ba37"
      },
      "source": [
        "f1_score(y_1,clf_tf_o.predict(X_3_scaled_new))"
      ],
      "execution_count": null,
      "outputs": [
        {
          "output_type": "execute_result",
          "data": {
            "text/plain": [
              "0.8380952380952381"
            ]
          },
          "metadata": {},
          "execution_count": 1010
        }
      ]
    },
    {
      "cell_type": "code",
      "metadata": {
        "colab": {
          "base_uri": "https://localhost:8080/"
        },
        "id": "MQ5hBghquZXF",
        "outputId": "21be2f70-c5d8-4f30-c02b-3840ad831e8b"
      },
      "source": [
        "roc_auc_score(y_1,clf_tf_o.predict(X_3_scaled_new))"
      ],
      "execution_count": null,
      "outputs": [
        {
          "output_type": "execute_result",
          "data": {
            "text/plain": [
              "0.9935596302470071"
            ]
          },
          "metadata": {},
          "execution_count": 1504
        }
      ]
    },
    {
      "cell_type": "code",
      "metadata": {
        "id": "wzHNWvvI8BkC"
      },
      "source": [
        ""
      ],
      "execution_count": null,
      "outputs": []
    }
  ]
}